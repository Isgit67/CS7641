{
 "cells": [
  {
   "cell_type": "code",
   "execution_count": 53,
   "metadata": {},
   "outputs": [],
   "source": [
    "from __future__ import print_function\n",
    "import time\n",
    "import numpy as np\n",
    "import pandas as pd\n",
    "from sklearn.decomposition import PCA\n",
    "from sklearn.manifold import TSNE\n",
    "%matplotlib inline\n",
    "import matplotlib.pyplot as plt\n",
    "from mpl_toolkits.mplot3d import Axes3D\n",
    "from sklearn.metrics import explained_variance_score\n",
    "import seaborn as sns\n",
    "from sklearn.metrics import mean_squared_error\n",
    "from sklearn.feature_selection import SelectFromModel\n",
    "from sklearn.linear_model import LassoCV\n"
   ]
  },
  {
   "cell_type": "code",
   "execution_count": 43,
   "metadata": {},
   "outputs": [],
   "source": [
    "import pandas as pd\n",
    "import numpy as np\n",
    "from sklearn.preprocessing import StandardScaler\n",
    "from sklearn.pipeline import Pipeline\n",
    "from matplotlib import cm\n",
    "from sklearn.neural_network import MLPClassifier\n",
    "from sklearn.model_selection import GridSearchCV\n",
    "from sklearn.decomposition import PCA\n",
    "from sklearn import preprocessing\n",
    "from sklearn.decomposition import PCA, FactorAnalysis, NMF\n",
    "from sklearn.covariance import ShrunkCovariance, LedoitWolf\n",
    "from sklearn.model_selection import cross_val_score\n",
    "from sklearn.model_selection import GridSearchCV"
   ]
  },
  {
   "cell_type": "code",
   "execution_count": 44,
   "metadata": {},
   "outputs": [],
   "source": [
    "wine_dataset = pd.read_csv(\"wine_dataset.csv\")\n",
    "ufc_dataset = pd.read_csv(\"ufc_data.csv\")\n",
    "ufc_dataset.loc[ufc_dataset[\"Winner\"] == \"Red\", \"Winner\"] = 1\n",
    "ufc_dataset.loc[ufc_dataset[\"Winner\"] == \"Blue\", \"Winner\"] = 0\n",
    "ufc_dataset.drop([\"no_of_rounds\"], axis=1 ,inplace=True)\n",
    "# al zero\n",
    "ufc_dataset.drop([\"B_draw\"], axis=1 ,inplace=True)\n",
    "ufc_dataset.drop([\"R_draw\"], axis=1 ,inplace=True)\n",
    "\n",
    "ufcX = ufc_dataset.drop(\"Winner\", 1).copy().values\n",
    "ufcY = ufc_dataset[\"Winner\"].copy().values\n",
    "ufc_x_df = ufc_dataset.drop(\"Winner\",1)\n",
    "\n",
    "wineX = wine_dataset.drop(\"class\", 1).copy().values\n",
    "wineY = wine_dataset[\"class\"].copy().values\n",
    "wine_x_df = wine_dataset.drop(\"class\",1)\n",
    "\n",
    "\n",
    "min_max_scaler = preprocessing.MinMaxScaler()\n",
    "ufcX = min_max_scaler.fit_transform(ufcX)\n",
    "ufcX_df = pd.DataFrame(ufcX, columns=ufc_x_df.columns)\n",
    "wineX = min_max_scaler.fit_transform(wineX)\n",
    "wineX_df = pd.DataFrame(wineX, columns=wine_x_df.columns)"
   ]
  },
  {
   "cell_type": "code",
   "execution_count": 45,
   "metadata": {},
   "outputs": [],
   "source": [
    "model = FactorAnalysis(n_components=10, random_state=44)\n",
    "x_prime = model.fit_transform(ufcX)"
   ]
  },
  {
   "cell_type": "code",
   "execution_count": 38,
   "metadata": {},
   "outputs": [],
   "source": [
    "ufcX.shape\n",
    "dims_ufc = list(range(2,100,5))"
   ]
  },
  {
   "cell_type": "code",
   "execution_count": 58,
   "metadata": {},
   "outputs": [
    {
     "data": {
      "text/plain": [
       "13"
      ]
     },
     "execution_count": 58,
     "metadata": {},
     "output_type": "execute_result"
    }
   ],
   "source": [
    "n_features"
   ]
  },
  {
   "cell_type": "code",
   "execution_count": 57,
   "metadata": {},
   "outputs": [],
   "source": [
    "sfm = SelectFromModel(LassoCV(max_iter=10000), threshold=0.1)\n",
    "sfm.fit(ufcX, ufcY)\n",
    "n_features = sfm.transform(ufcX).shape[1]"
   ]
  },
  {
   "cell_type": "code",
   "execution_count": 61,
   "metadata": {},
   "outputs": [],
   "source": [
    "x_prime = sfm.transform(ufcX)"
   ]
  },
  {
   "cell_type": "code",
   "execution_count": null,
   "metadata": {},
   "outputs": [],
   "source": [
    "A = np.linalg.pinv(fa.components_.T)\n",
    "reconstructed = np.dot(x_prime, A)\n",
    "rc_err = mean_squared_error(ufcX_df.values, reconstructed)    \n",
    "rc_errors[dim] = rc_err"
   ]
  },
  {
   "cell_type": "code",
   "execution_count": 72,
   "metadata": {},
   "outputs": [
    {
     "data": {
      "text/plain": [
       "array([0.001, 0.021, 0.041, 0.061, 0.081, 0.101, 0.121, 0.141, 0.161,\n",
       "       0.181, 0.201, 0.221, 0.241, 0.261, 0.281])"
      ]
     },
     "execution_count": 72,
     "metadata": {},
     "output_type": "execute_result"
    }
   ],
   "source": [
    "np.arange(0.001, 0.3, 0.02)"
   ]
  },
  {
   "cell_type": "code",
   "execution_count": 77,
   "metadata": {},
   "outputs": [
    {
     "data": {
      "text/plain": [
       "40"
      ]
     },
     "execution_count": 77,
     "metadata": {},
     "output_type": "execute_result"
    }
   ],
   "source": [
    "sfm = SelectFromModel(LassoCV(max_iter=10000), max_features=40)\n",
    "sfm.fit(ufcX, ufcY)\n",
    "ufcX_40 = sfm.transform(ufcX)\n",
    "sfm.transform(ufcX).shape[1]\n"
   ]
  },
  {
   "cell_type": "markdown",
   "metadata": {},
   "source": [
    "## UFC Clustering on FeatureSelection"
   ]
  },
  {
   "cell_type": "code",
   "execution_count": 79,
   "metadata": {},
   "outputs": [],
   "source": [
    "from sklearn.cluster import KMeans\n",
    "clusters = list(range(2,31,1))"
   ]
  },
  {
   "cell_type": "code",
   "execution_count": 80,
   "metadata": {},
   "outputs": [
    {
     "name": "stdout",
     "output_type": "stream",
     "text": [
      "For n_clusters=2, The Silhouette Coefficient is 0.16234100717362587\n",
      "For n_clusters=2, The homogeneity_score is 0.00043524792991972834\n",
      "For n_clusters=3, The Silhouette Coefficient is 0.16753312019383212\n",
      "For n_clusters=3, The homogeneity_score is 0.0005998379853170648\n",
      "For n_clusters=4, The Silhouette Coefficient is 0.17226741423697015\n",
      "For n_clusters=4, The homogeneity_score is 0.0007054997825279025\n",
      "For n_clusters=5, The Silhouette Coefficient is 0.18090732487479716\n",
      "For n_clusters=5, The homogeneity_score is 0.0016766357460172882\n",
      "For n_clusters=6, The Silhouette Coefficient is 0.1823734813930422\n",
      "For n_clusters=6, The homogeneity_score is 0.002446848667091843\n",
      "For n_clusters=7, The Silhouette Coefficient is 0.19122452453430344\n",
      "For n_clusters=7, The homogeneity_score is 0.003240623687112069\n",
      "For n_clusters=8, The Silhouette Coefficient is 0.1923960615982439\n",
      "For n_clusters=8, The homogeneity_score is 0.0027135176320897438\n",
      "For n_clusters=9, The Silhouette Coefficient is 0.20265736986135277\n",
      "For n_clusters=9, The homogeneity_score is 0.010754468821789086\n",
      "For n_clusters=10, The Silhouette Coefficient is 0.19834638560133303\n",
      "For n_clusters=10, The homogeneity_score is 0.01234546335942295\n",
      "For n_clusters=11, The Silhouette Coefficient is 0.20673407052214435\n",
      "For n_clusters=11, The homogeneity_score is 0.014098789097691685\n",
      "For n_clusters=12, The Silhouette Coefficient is 0.21195451880646984\n",
      "For n_clusters=12, The homogeneity_score is 0.012406618409828655\n",
      "For n_clusters=13, The Silhouette Coefficient is 0.17005031136836254\n",
      "For n_clusters=13, The homogeneity_score is 0.014346724545089682\n",
      "For n_clusters=14, The Silhouette Coefficient is 0.1802021413929235\n",
      "For n_clusters=14, The homogeneity_score is 0.014188885152053592\n",
      "For n_clusters=15, The Silhouette Coefficient is 0.1813183687238573\n",
      "For n_clusters=15, The homogeneity_score is 0.014906470624418033\n",
      "For n_clusters=16, The Silhouette Coefficient is 0.1790688717912456\n",
      "For n_clusters=16, The homogeneity_score is 0.01524892438474342\n",
      "For n_clusters=17, The Silhouette Coefficient is 0.1708129132192859\n",
      "For n_clusters=17, The homogeneity_score is 0.015754869454340202\n",
      "For n_clusters=18, The Silhouette Coefficient is 0.1758545493538361\n",
      "For n_clusters=18, The homogeneity_score is 0.01617807797067971\n",
      "For n_clusters=19, The Silhouette Coefficient is 0.17935786784557164\n",
      "For n_clusters=19, The homogeneity_score is 0.019394808834024387\n",
      "For n_clusters=20, The Silhouette Coefficient is 0.18533122821381495\n",
      "For n_clusters=20, The homogeneity_score is 0.020186353420872195\n",
      "For n_clusters=21, The Silhouette Coefficient is 0.1888500201162745\n",
      "For n_clusters=21, The homogeneity_score is 0.020813923362865507\n",
      "For n_clusters=22, The Silhouette Coefficient is 0.1857239602508172\n",
      "For n_clusters=22, The homogeneity_score is 0.01773492073735745\n",
      "For n_clusters=23, The Silhouette Coefficient is 0.1754799688155427\n",
      "For n_clusters=23, The homogeneity_score is 0.020131554989289455\n",
      "For n_clusters=24, The Silhouette Coefficient is 0.17871959372065654\n",
      "For n_clusters=24, The homogeneity_score is 0.021208734561941583\n",
      "For n_clusters=25, The Silhouette Coefficient is 0.1822979676249563\n",
      "For n_clusters=25, The homogeneity_score is 0.022620241901566016\n",
      "For n_clusters=26, The Silhouette Coefficient is 0.15364934614994755\n",
      "For n_clusters=26, The homogeneity_score is 0.02233467173596858\n",
      "For n_clusters=27, The Silhouette Coefficient is 0.17575141331308533\n",
      "For n_clusters=27, The homogeneity_score is 0.02146651984785875\n",
      "For n_clusters=28, The Silhouette Coefficient is 0.16508355870162433\n",
      "For n_clusters=28, The homogeneity_score is 0.024855664216467475\n",
      "For n_clusters=29, The Silhouette Coefficient is 0.16723266203444365\n",
      "For n_clusters=29, The homogeneity_score is 0.024159810693611707\n",
      "For n_clusters=30, The Silhouette Coefficient is 0.16889710260916702\n",
      "For n_clusters=30, The homogeneity_score is 0.021049965875765585\n"
     ]
    },
    {
     "data": {
      "image/png": "[encoded data removed]",
      "text/plain": [
       "<Figure size 432x288 with 1 Axes>"
      ]
     },
     "metadata": {
      "needs_background": "light"
     },
     "output_type": "display_data"
    }
   ],
   "source": [
    "from sklearn.metrics import silhouette_score\n",
    "from sklearn.cluster import KMeans\n",
    "from sklearn.metrics import accuracy_score, homogeneity_score\n",
    "silh = {}\n",
    "homog = {}\n",
    "for cluster in clusters:\n",
    "    kmeans = KMeans(n_clusters=cluster, n_init=50, max_iter=1000, random_state=44, n_jobs=-2).fit(ufcX_40)\n",
    "    label = kmeans.labels_\n",
    "    sil_coeff = silhouette_score(ufcX_40, label, metric='euclidean')\n",
    "    homog_score = homogeneity_score(ufcY, label)\n",
    "    silh[cluster] = sil_coeff\n",
    "    homog[cluster] = homog_score\n",
    "    print(\"For n_clusters={}, The Silhouette Coefficient is {}\".format(cluster, sil_coeff))\n",
    "    print(\"For n_clusters={}, The homogeneity_score is {}\".format(cluster, homog_score))\n",
    "plt.figure()\n",
    "plt.plot(list(silh.keys()), list(silh.values()))\n",
    "plt.xlabel(\"Number of cluster\")\n",
    "plt.ylabel(\"Silhouette Coefficient\")\n",
    "plt.show()"
   ]
  },
  {
   "cell_type": "code",
   "execution_count": 81,
   "metadata": {},
   "outputs": [
    {
     "name": "stdout",
     "output_type": "stream",
     "text": [
      "For n_clusters=2, The Silhouette Coefficient is 0.14135958838483748\n",
      "For n_clusters=2, The homogeneity_score is 8.973115053065334e-05\n",
      "For n_clusters=2, The log_likelihood score is 34.28366792149698\n",
      "For n_clusters=3, The Silhouette Coefficient is 0.07211958326785055\n",
      "For n_clusters=3, The homogeneity_score is 0.0002122498983856732\n",
      "For n_clusters=3, The log_likelihood score is 44.993798684594466\n",
      "For n_clusters=4, The Silhouette Coefficient is 0.14608129571199036\n",
      "For n_clusters=4, The homogeneity_score is 0.0049893360885057275\n",
      "For n_clusters=4, The log_likelihood score is 51.90441458756894\n",
      "For n_clusters=5, The Silhouette Coefficient is 0.18850647757745334\n",
      "For n_clusters=5, The homogeneity_score is 0.002514445690837587\n",
      "For n_clusters=5, The log_likelihood score is 52.944980849158306\n",
      "For n_clusters=6, The Silhouette Coefficient is 0.17637733017075408\n",
      "For n_clusters=6, The homogeneity_score is 0.007968061508103766\n",
      "For n_clusters=6, The log_likelihood score is 57.04044714117446\n",
      "For n_clusters=7, The Silhouette Coefficient is 0.180235709031289\n",
      "For n_clusters=7, The homogeneity_score is 0.009175235645289955\n",
      "For n_clusters=7, The log_likelihood score is 60.63171605280304\n",
      "For n_clusters=8, The Silhouette Coefficient is 0.15885797564612567\n",
      "For n_clusters=8, The homogeneity_score is 0.006152091676985594\n",
      "For n_clusters=8, The log_likelihood score is 64.52612542506257\n",
      "For n_clusters=9, The Silhouette Coefficient is 0.15701996602759652\n",
      "For n_clusters=9, The homogeneity_score is 0.005423137409384168\n",
      "For n_clusters=9, The log_likelihood score is 65.72748453214763\n",
      "For n_clusters=10, The Silhouette Coefficient is 0.15376048632639447\n",
      "For n_clusters=10, The homogeneity_score is 0.010702809895454055\n",
      "For n_clusters=10, The log_likelihood score is 67.03273163277713\n",
      "For n_clusters=11, The Silhouette Coefficient is 0.15507199392870047\n",
      "For n_clusters=11, The homogeneity_score is 0.011227923561255009\n",
      "For n_clusters=11, The log_likelihood score is 67.86587910012449\n",
      "For n_clusters=12, The Silhouette Coefficient is 0.14439700242385115\n",
      "For n_clusters=12, The homogeneity_score is 0.012441889583810163\n",
      "For n_clusters=12, The log_likelihood score is 69.22405745666663\n",
      "For n_clusters=13, The Silhouette Coefficient is 0.12713593178201088\n",
      "For n_clusters=13, The homogeneity_score is 0.012678104499642951\n",
      "For n_clusters=13, The log_likelihood score is 71.10692446584589\n",
      "For n_clusters=14, The Silhouette Coefficient is 0.14068577571978738\n",
      "For n_clusters=14, The homogeneity_score is 0.013471988852037025\n",
      "For n_clusters=14, The log_likelihood score is 71.74440282068096\n",
      "For n_clusters=15, The Silhouette Coefficient is 0.1480150713689655\n",
      "For n_clusters=15, The homogeneity_score is 0.014235210489339045\n",
      "For n_clusters=15, The log_likelihood score is 72.75236125978863\n",
      "For n_clusters=16, The Silhouette Coefficient is 0.12554822393478185\n",
      "For n_clusters=16, The homogeneity_score is 0.013719303446397393\n",
      "For n_clusters=16, The log_likelihood score is 73.87458705713216\n",
      "For n_clusters=17, The Silhouette Coefficient is 0.13365153905438795\n",
      "For n_clusters=17, The homogeneity_score is 0.01388772391378948\n",
      "For n_clusters=17, The log_likelihood score is 74.46681003407365\n",
      "For n_clusters=18, The Silhouette Coefficient is 0.16359179118349038\n",
      "For n_clusters=18, The homogeneity_score is 0.016902080421249802\n",
      "For n_clusters=18, The log_likelihood score is 76.54113423336963\n",
      "For n_clusters=19, The Silhouette Coefficient is 0.12738700031369216\n",
      "For n_clusters=19, The homogeneity_score is 0.014751658319568213\n",
      "For n_clusters=19, The log_likelihood score is 77.50839880807332\n",
      "For n_clusters=20, The Silhouette Coefficient is 0.13287014965134877\n",
      "For n_clusters=20, The homogeneity_score is 0.01492638132534215\n",
      "For n_clusters=20, The log_likelihood score is 78.44592411497587\n",
      "For n_clusters=21, The Silhouette Coefficient is 0.1368474896334225\n",
      "For n_clusters=21, The homogeneity_score is 0.01902487713823473\n",
      "For n_clusters=21, The log_likelihood score is 78.39083618808168\n",
      "For n_clusters=22, The Silhouette Coefficient is 0.12416771526053802\n",
      "For n_clusters=22, The homogeneity_score is 0.017706071941635045\n",
      "For n_clusters=22, The log_likelihood score is 79.16214687524231\n",
      "For n_clusters=23, The Silhouette Coefficient is 0.12855356273934915\n",
      "For n_clusters=23, The homogeneity_score is 0.01736215833269948\n",
      "For n_clusters=23, The log_likelihood score is 79.12967276830973\n",
      "For n_clusters=24, The Silhouette Coefficient is 0.13495196060976491\n",
      "For n_clusters=24, The homogeneity_score is 0.017485176272602498\n",
      "For n_clusters=24, The log_likelihood score is 80.63578859983313\n",
      "For n_clusters=25, The Silhouette Coefficient is 0.15929617868145565\n",
      "For n_clusters=25, The homogeneity_score is 0.017560995526912905\n",
      "For n_clusters=25, The log_likelihood score is 80.34929132671427\n",
      "For n_clusters=26, The Silhouette Coefficient is 0.12135882357623916\n",
      "For n_clusters=26, The homogeneity_score is 0.017518440460384865\n",
      "For n_clusters=26, The log_likelihood score is 81.45796244580214\n",
      "For n_clusters=27, The Silhouette Coefficient is 0.10712946503323532\n",
      "For n_clusters=27, The homogeneity_score is 0.01747472106414072\n",
      "For n_clusters=27, The log_likelihood score is 81.8433317570151\n",
      "For n_clusters=28, The Silhouette Coefficient is 0.1471979200973059\n",
      "For n_clusters=28, The homogeneity_score is 0.01834585472890433\n",
      "For n_clusters=28, The log_likelihood score is 82.44172227052461\n",
      "For n_clusters=29, The Silhouette Coefficient is 0.15112496671816347\n",
      "For n_clusters=29, The homogeneity_score is 0.018637927224372554\n",
      "For n_clusters=29, The log_likelihood score is 83.10171086235202\n",
      "For n_clusters=30, The Silhouette Coefficient is 0.14328387139332938\n",
      "For n_clusters=30, The homogeneity_score is 0.01863845964529476\n",
      "For n_clusters=30, The log_likelihood score is 83.51954541362936\n"
     ]
    },
    {
     "data": {
      "image/png": "[encoded data removed]",
      "text/plain": [
       "<Figure size 432x288 with 1 Axes>"
      ]
     },
     "metadata": {
      "needs_background": "light"
     },
     "output_type": "display_data"
    }
   ],
   "source": [
    "from sklearn.mixture import GaussianMixture\n",
    "silh_EM = {}\n",
    "homog_EM = {}\n",
    "log_likelihood_EM = {}\n",
    "for cluster in clusters:\n",
    "    gmm = GaussianMixture(n_components=cluster, max_iter=100, random_state=44, \n",
    "                          n_init=5).fit(ufcX_40)\n",
    "    label = gmm.predict(ufcX_40)\n",
    "    sil_coeff = silhouette_score(ufcX_40, label, metric='euclidean')\n",
    "    homog_score = homogeneity_score(ufcY, label)\n",
    "    silh_EM[cluster] = sil_coeff\n",
    "    homog_EM[cluster] = homog_score\n",
    "    log_likelihood_EM[cluster] = gmm.score(ufcX_40)\n",
    "    print(\"For n_clusters={}, The Silhouette Coefficient is {}\".format(cluster, sil_coeff))\n",
    "    print(\"For n_clusters={}, The homogeneity_score is {}\".format(cluster, homog_score))\n",
    "    print(\"For n_clusters={}, The log_likelihood score is {}\".format(cluster, log_likelihood_EM[cluster]))\n",
    "\n",
    "    \n",
    "plt.figure()\n",
    "plt.plot(list(silh_EM.keys()), list(silh_EM.values()))\n",
    "plt.xlabel(\"Number of cluster\")\n",
    "plt.ylabel(\"Silhouette Coefficient\")\n",
    "plt.show()"
   ]
  },
  {
   "cell_type": "markdown",
   "metadata": {},
   "source": [
    "# WINE DATASET"
   ]
  },
  {
   "cell_type": "code",
   "execution_count": 137,
   "metadata": {},
   "outputs": [],
   "source": [
    "dims_wine = list(range(1,14,1))"
   ]
  },
  {
   "cell_type": "code",
   "execution_count": 78,
   "metadata": {},
   "outputs": [
    {
     "data": {
      "text/plain": [
       "5"
      ]
     },
     "execution_count": 78,
     "metadata": {},
     "output_type": "execute_result"
    }
   ],
   "source": [
    "sfm = SelectFromModel(LassoCV(max_iter=10000), max_features=5)\n",
    "sfm.fit(wineX, wineY)\n",
    "wineX_5 = sfm.transform(wineX)\n",
    "sfm.transform(wineX).shape[1]"
   ]
  },
  {
   "cell_type": "code",
   "execution_count": 82,
   "metadata": {},
   "outputs": [
    {
     "name": "stdout",
     "output_type": "stream",
     "text": [
      "For n_clusters=2, The Silhouette Coefficient is 0.29442147217296744\n",
      "For n_clusters=2, The homogeneity_score is 0.2874191656823064\n",
      "For n_clusters=3, The Silhouette Coefficient is 0.2894844717474823\n",
      "For n_clusters=3, The homogeneity_score is 0.603607528723009\n",
      "For n_clusters=4, The Silhouette Coefficient is 0.2558411762574795\n",
      "For n_clusters=4, The homogeneity_score is 0.5594129433402133\n",
      "For n_clusters=5, The Silhouette Coefficient is 0.23272082123779572\n",
      "For n_clusters=5, The homogeneity_score is 0.550914524568426\n",
      "For n_clusters=6, The Silhouette Coefficient is 0.21987385259456918\n",
      "For n_clusters=6, The homogeneity_score is 0.564145672747921\n",
      "For n_clusters=7, The Silhouette Coefficient is 0.1979234062977278\n",
      "For n_clusters=7, The homogeneity_score is 0.6064623670402484\n",
      "For n_clusters=8, The Silhouette Coefficient is 0.2013330961501945\n",
      "For n_clusters=8, The homogeneity_score is 0.6014101147796581\n",
      "For n_clusters=9, The Silhouette Coefficient is 0.19913285369024603\n",
      "For n_clusters=9, The homogeneity_score is 0.613169634832924\n",
      "For n_clusters=10, The Silhouette Coefficient is 0.2043356175027122\n",
      "For n_clusters=10, The homogeneity_score is 0.6188507414951091\n",
      "For n_clusters=11, The Silhouette Coefficient is 0.20615189603847667\n",
      "For n_clusters=11, The homogeneity_score is 0.6196625689012576\n",
      "For n_clusters=12, The Silhouette Coefficient is 0.20462433417965067\n",
      "For n_clusters=12, The homogeneity_score is 0.6323334515405772\n",
      "For n_clusters=13, The Silhouette Coefficient is 0.19912422880714212\n",
      "For n_clusters=13, The homogeneity_score is 0.6332144451193288\n",
      "For n_clusters=14, The Silhouette Coefficient is 0.1899292521857382\n",
      "For n_clusters=14, The homogeneity_score is 0.6345645701599878\n",
      "For n_clusters=15, The Silhouette Coefficient is 0.18613563326973095\n",
      "For n_clusters=15, The homogeneity_score is 0.6358002987520397\n",
      "For n_clusters=16, The Silhouette Coefficient is 0.18195435437245153\n",
      "For n_clusters=16, The homogeneity_score is 0.626124089246714\n",
      "For n_clusters=17, The Silhouette Coefficient is 0.1823091363452978\n",
      "For n_clusters=17, The homogeneity_score is 0.6433389553395347\n",
      "For n_clusters=18, The Silhouette Coefficient is 0.18325643295308613\n",
      "For n_clusters=18, The homogeneity_score is 0.6407191207219592\n",
      "For n_clusters=19, The Silhouette Coefficient is 0.18081088210464585\n",
      "For n_clusters=19, The homogeneity_score is 0.6521085905666278\n",
      "For n_clusters=20, The Silhouette Coefficient is 0.17995070487806916\n",
      "For n_clusters=20, The homogeneity_score is 0.6502291188874638\n",
      "For n_clusters=21, The Silhouette Coefficient is 0.18397685213154008\n",
      "For n_clusters=21, The homogeneity_score is 0.6558153036871314\n",
      "For n_clusters=22, The Silhouette Coefficient is 0.18085957588672363\n",
      "For n_clusters=22, The homogeneity_score is 0.6497674336230789\n",
      "For n_clusters=23, The Silhouette Coefficient is 0.17767455525087586\n",
      "For n_clusters=23, The homogeneity_score is 0.6500772968891305\n",
      "For n_clusters=24, The Silhouette Coefficient is 0.18041284763030727\n",
      "For n_clusters=24, The homogeneity_score is 0.6608833148887715\n",
      "For n_clusters=25, The Silhouette Coefficient is 0.1813074014202748\n",
      "For n_clusters=25, The homogeneity_score is 0.6633975712767305\n",
      "For n_clusters=26, The Silhouette Coefficient is 0.17024074118864937\n",
      "For n_clusters=26, The homogeneity_score is 0.6743840999035119\n",
      "For n_clusters=27, The Silhouette Coefficient is 0.17036367490737356\n",
      "For n_clusters=27, The homogeneity_score is 0.6725677183915703\n",
      "For n_clusters=28, The Silhouette Coefficient is 0.17407821919861127\n",
      "For n_clusters=28, The homogeneity_score is 0.6703504880796497\n",
      "For n_clusters=29, The Silhouette Coefficient is 0.16596511929658736\n",
      "For n_clusters=29, The homogeneity_score is 0.6817415209302521\n",
      "For n_clusters=30, The Silhouette Coefficient is 0.17363804917317546\n",
      "For n_clusters=30, The homogeneity_score is 0.6801295339670964\n"
     ]
    },
    {
     "data": {
      "image/png": "[encoded data removed]",
      "text/plain": [
       "<Figure size 432x288 with 1 Axes>"
      ]
     },
     "metadata": {
      "needs_background": "light"
     },
     "output_type": "display_data"
    }
   ],
   "source": [
    "from sklearn.metrics import silhouette_score\n",
    "from sklearn.cluster import KMeans\n",
    "from sklearn.metrics import accuracy_score, homogeneity_score\n",
    "silh_wine = {}\n",
    "homog_wine = {}\n",
    "for cluster in clusters:\n",
    "    kmeans = KMeans(n_clusters=cluster, n_init=50, max_iter=1000, random_state=44, n_jobs=-2).fit(wineX_5)\n",
    "    label = kmeans.labels_\n",
    "    sil_coeff = silhouette_score(wineX_5, label, metric='euclidean')\n",
    "    homog_score = homogeneity_score(wineY, label)\n",
    "    silh_wine[cluster] = sil_coeff\n",
    "    homog_wine[cluster] = homog_score\n",
    "    print(\"For n_clusters={}, The Silhouette Coefficient is {}\".format(cluster, sil_coeff))\n",
    "    print(\"For n_clusters={}, The homogeneity_score is {}\".format(cluster, homog_score))\n",
    "plt.figure()\n",
    "plt.plot(list(silh_wine.keys()), list(silh_wine.values()))\n",
    "plt.xlabel(\"Number of cluster\")\n",
    "plt.ylabel(\"Silhouette Coefficient\")\n",
    "plt.show()"
   ]
  },
  {
   "cell_type": "code",
   "execution_count": 83,
   "metadata": {},
   "outputs": [
    {
     "name": "stdout",
     "output_type": "stream",
     "text": [
      "For n_clusters=2, The Silhouette Coefficient is 0.2809263733765838\n",
      "For n_clusters=2, The homogeneity_score is 0.28065408675400827\n",
      "For n_clusters=2, The log_likelihood score is 1.5141915643474253\n",
      "For n_clusters=3, The Silhouette Coefficient is 0.2797249942935\n",
      "For n_clusters=3, The homogeneity_score is 0.6223872108190093\n",
      "For n_clusters=3, The log_likelihood score is 1.6636661821938128\n",
      "For n_clusters=4, The Silhouette Coefficient is 0.24971554202935486\n",
      "For n_clusters=4, The homogeneity_score is 0.5570399639128037\n",
      "For n_clusters=4, The log_likelihood score is 1.7196207362797922\n",
      "For n_clusters=5, The Silhouette Coefficient is 0.2122311369504714\n",
      "For n_clusters=5, The homogeneity_score is 0.5617451252772928\n",
      "For n_clusters=5, The log_likelihood score is 1.8012656468187411\n",
      "For n_clusters=6, The Silhouette Coefficient is 0.107978780736712\n",
      "For n_clusters=6, The homogeneity_score is 0.5690583462364983\n",
      "For n_clusters=6, The log_likelihood score is 1.8593807540034712\n",
      "For n_clusters=7, The Silhouette Coefficient is 0.14069134379209408\n",
      "For n_clusters=7, The homogeneity_score is 0.5920670037128031\n",
      "For n_clusters=7, The log_likelihood score is 1.8826180976596596\n",
      "For n_clusters=8, The Silhouette Coefficient is 0.10836214915209816\n",
      "For n_clusters=8, The homogeneity_score is 0.6084341450662673\n",
      "For n_clusters=8, The log_likelihood score is 1.9201333995364265\n",
      "For n_clusters=9, The Silhouette Coefficient is 0.10785650487456787\n",
      "For n_clusters=9, The homogeneity_score is 0.605746073859742\n",
      "For n_clusters=9, The log_likelihood score is 1.9636050853053784\n",
      "For n_clusters=10, The Silhouette Coefficient is 0.09602209458444201\n",
      "For n_clusters=10, The homogeneity_score is 0.6115301840328947\n",
      "For n_clusters=10, The log_likelihood score is 1.9828296033882895\n",
      "For n_clusters=11, The Silhouette Coefficient is 0.07378829528320847\n",
      "For n_clusters=11, The homogeneity_score is 0.6310705446657683\n",
      "For n_clusters=11, The log_likelihood score is 2.012558338437722\n",
      "For n_clusters=12, The Silhouette Coefficient is 0.06425716819947301\n",
      "For n_clusters=12, The homogeneity_score is 0.623938171891784\n",
      "For n_clusters=12, The log_likelihood score is 2.0082118024282294\n",
      "For n_clusters=13, The Silhouette Coefficient is 0.08010208800924105\n",
      "For n_clusters=13, The homogeneity_score is 0.6471730433374591\n",
      "For n_clusters=13, The log_likelihood score is 2.0385039584609435\n",
      "For n_clusters=14, The Silhouette Coefficient is 0.07449291424326364\n",
      "For n_clusters=14, The homogeneity_score is 0.6785627063179055\n",
      "For n_clusters=14, The log_likelihood score is 2.0644220218837823\n",
      "For n_clusters=15, The Silhouette Coefficient is 0.07996232371033932\n",
      "For n_clusters=15, The homogeneity_score is 0.6692248313676761\n",
      "For n_clusters=15, The log_likelihood score is 2.0680203370537247\n",
      "For n_clusters=16, The Silhouette Coefficient is 0.06892414822260216\n",
      "For n_clusters=16, The homogeneity_score is 0.6346716870455468\n",
      "For n_clusters=16, The log_likelihood score is 2.081586958586183\n",
      "For n_clusters=17, The Silhouette Coefficient is 0.061581712679709265\n",
      "For n_clusters=17, The homogeneity_score is 0.6525515604100823\n",
      "For n_clusters=17, The log_likelihood score is 2.104572405986804\n",
      "For n_clusters=18, The Silhouette Coefficient is 0.06404343669132599\n",
      "For n_clusters=18, The homogeneity_score is 0.6711771954151408\n",
      "For n_clusters=18, The log_likelihood score is 2.119995571310971\n",
      "For n_clusters=19, The Silhouette Coefficient is 0.04762181438726901\n",
      "For n_clusters=19, The homogeneity_score is 0.6564973469408799\n",
      "For n_clusters=19, The log_likelihood score is 2.1268861808792936\n",
      "For n_clusters=20, The Silhouette Coefficient is 0.07164775756988591\n",
      "For n_clusters=20, The homogeneity_score is 0.6801633554211284\n",
      "For n_clusters=20, The log_likelihood score is 2.1463365349539734\n",
      "For n_clusters=21, The Silhouette Coefficient is 0.06012688336540357\n",
      "For n_clusters=21, The homogeneity_score is 0.6683667926030725\n",
      "For n_clusters=21, The log_likelihood score is 2.1378634631554365\n",
      "For n_clusters=22, The Silhouette Coefficient is 0.04868938269511235\n",
      "For n_clusters=22, The homogeneity_score is 0.6930365557975534\n",
      "For n_clusters=22, The log_likelihood score is 2.1663514357986897\n",
      "For n_clusters=23, The Silhouette Coefficient is 0.07687140818523537\n",
      "For n_clusters=23, The homogeneity_score is 0.6788579328733413\n",
      "For n_clusters=23, The log_likelihood score is 2.1592322856704502\n",
      "For n_clusters=24, The Silhouette Coefficient is 0.07743834765790586\n",
      "For n_clusters=24, The homogeneity_score is 0.6822884766341256\n",
      "For n_clusters=24, The log_likelihood score is 2.158822807701975\n",
      "For n_clusters=25, The Silhouette Coefficient is 0.05415080864144811\n",
      "For n_clusters=25, The homogeneity_score is 0.6818241326397537\n",
      "For n_clusters=25, The log_likelihood score is 2.1849277778972342\n",
      "For n_clusters=26, The Silhouette Coefficient is 0.05698533751222467\n",
      "For n_clusters=26, The homogeneity_score is 0.6840767712915187\n",
      "For n_clusters=26, The log_likelihood score is 2.2000477897320487\n",
      "For n_clusters=27, The Silhouette Coefficient is 0.055662974806457315\n",
      "For n_clusters=27, The homogeneity_score is 0.6715257112158709\n",
      "For n_clusters=27, The log_likelihood score is 2.1905079517410875\n",
      "For n_clusters=28, The Silhouette Coefficient is 0.04339162317112874\n",
      "For n_clusters=28, The homogeneity_score is 0.6716498961085624\n",
      "For n_clusters=28, The log_likelihood score is 2.196456803889648\n",
      "For n_clusters=29, The Silhouette Coefficient is 0.04557763199907007\n",
      "For n_clusters=29, The homogeneity_score is 0.6765917170434774\n",
      "For n_clusters=29, The log_likelihood score is 2.2052860436461015\n",
      "For n_clusters=30, The Silhouette Coefficient is 0.046129064138046405\n",
      "For n_clusters=30, The homogeneity_score is 0.6776686161500821\n",
      "For n_clusters=30, The log_likelihood score is 2.2116044323281816\n"
     ]
    },
    {
     "data": {
      "image/png": "[encoded data removed]",
      "text/plain": [
       "<Figure size 432x288 with 1 Axes>"
      ]
     },
     "metadata": {
      "needs_background": "light"
     },
     "output_type": "display_data"
    }
   ],
   "source": [
    "from sklearn.mixture import GaussianMixture\n",
    "silh_wine_EM = {}\n",
    "homog__wine_EM = {}\n",
    "log_likelihood_wine_EM = {}\n",
    "for cluster in clusters:\n",
    "    gmm = GaussianMixture(n_components=cluster, max_iter=100, random_state=44, \n",
    "                          n_init=5).fit(wineX_5)\n",
    "    label = gmm.predict(wineX_5)\n",
    "    sil_coeff = silhouette_score(wineX_5, label, metric='euclidean')\n",
    "    homog_score = homogeneity_score(wineY, label)\n",
    "    silh_wine_EM[cluster] = sil_coeff\n",
    "    homog__wine_EM[cluster] = homog_score\n",
    "    log_likelihood_wine_EM[cluster] = gmm.score(wineX_5)\n",
    "    print(\"For n_clusters={}, The Silhouette Coefficient is {}\".format(cluster, sil_coeff))\n",
    "    print(\"For n_clusters={}, The homogeneity_score is {}\".format(cluster, homog_score))\n",
    "    print(\"For n_clusters={}, The log_likelihood score is {}\".format(cluster, log_likelihood_wine_EM[cluster]))\n",
    "plt.figure()\n",
    "plt.plot(list(silh_wine_EM.keys()), list(silh_wine_EM.values()))\n",
    "plt.xlabel(\"Number of cluster\")\n",
    "plt.ylabel(\"Silhouette Coefficient\")\n",
    "plt.show()"
   ]
  },
  {
   "cell_type": "markdown",
   "metadata": {},
   "source": [
    "## Neural Network on Lasso Selection"
   ]
  },
  {
   "cell_type": "code",
   "execution_count": 84,
   "metadata": {},
   "outputs": [
    {
     "data": {
      "text/plain": [
       "array([[0.45278833, 0.16324404, 0.63562841, 0.58443874, 0.39900913],\n",
       "       [0.59971732, 0.66502981, 0.79029281, 0.57117012, 0.06515142],\n",
       "       [0.32610067, 0.64000791, 0.19299212, 0.15674798, 0.2589894 ],\n",
       "       ...,\n",
       "       [0.60568197, 0.36915137, 0.692712  , 0.72722716, 0.12241821],\n",
       "       [0.5746162 , 0.19037947, 0.63688772, 0.65523394, 0.04467458],\n",
       "       [0.48031643, 0.0990761 , 0.46836756, 0.7132111 , 0.29157602]])"
      ]
     },
     "execution_count": 84,
     "metadata": {},
     "output_type": "execute_result"
    }
   ],
   "source": [
    "wineX_5"
   ]
  },
  {
   "cell_type": "code",
   "execution_count": 85,
   "metadata": {},
   "outputs": [
    {
     "data": {
      "text/plain": [
       "MLPClassifier(activation='relu', alpha=0.0001, batch_size='auto', beta_1=0.9,\n",
       "              beta_2=0.999, early_stopping=False, epsilon=1e-08,\n",
       "              hidden_layer_sizes=(100,), learning_rate='constant',\n",
       "              learning_rate_init=0.001, max_fun=15000, max_iter=200,\n",
       "              momentum=0.9, n_iter_no_change=10, nesterovs_momentum=True,\n",
       "              power_t=0.5, random_state=None, shuffle=True, solver='adam',\n",
       "              tol=0.0001, validation_fraction=0.1, verbose=False,\n",
       "              warm_start=False)"
      ]
     },
     "execution_count": 85,
     "metadata": {},
     "output_type": "execute_result"
    }
   ],
   "source": [
    "import warnings\n",
    "from sklearn.exceptions import ConvergenceWarning\n",
    "warnings.filterwarnings(\"ignore\", category=ConvergenceWarning)\n",
    "from sklearn.neural_network import MLPClassifier\n",
    "neural_net = MLPClassifier()\n",
    "neural_net.fit(wineX_5, wineY)"
   ]
  },
  {
   "cell_type": "code",
   "execution_count": 86,
   "metadata": {},
   "outputs": [
    {
     "name": "stdout",
     "output_type": "stream",
     "text": [
      "0.9062\n",
      "              precision    recall  f1-score   support\n",
      "\n",
      "           1       0.92      0.91      0.92      1577\n",
      "           2       0.89      0.91      0.90      2013\n",
      "           3       0.91      0.90      0.90      1410\n",
      "\n",
      "    accuracy                           0.91      5000\n",
      "   macro avg       0.91      0.91      0.91      5000\n",
      "weighted avg       0.91      0.91      0.91      5000\n",
      "\n"
     ]
    }
   ],
   "source": [
    "# first net results\n",
    "from sklearn.metrics import roc_auc_score, accuracy_score, classification_report\n",
    "ufc_train_predictions = neural_net.predict(wineX_5)\n",
    "accuracy = accuracy_score(wineY, ufc_train_predictions)\n",
    "print(accuracy)\n",
    "print(classification_report(wineY, ufc_train_predictions))"
   ]
  },
  {
   "cell_type": "code",
   "execution_count": 87,
   "metadata": {},
   "outputs": [
    {
     "data": {
      "text/plain": [
       "(array([0.88837581, 0.88803779, 0.90232305, 0.90797457, 0.90411712,\n",
       "        0.90798064, 0.91804546, 0.88803741, 0.89199471, 0.91829615]),\n",
       " 0.9015182706825652)"
      ]
     },
     "execution_count": 87,
     "metadata": {},
     "output_type": "execute_result"
    }
   ],
   "source": [
    "from sklearn.model_selection import cross_val_score\n",
    "scores = cross_val_score(neural_net, wineX_5, wineY,\n",
    "                         scoring=\"f1_weighted\", cv=10)\n",
    "scores, scores.mean()"
   ]
  },
  {
   "cell_type": "code",
   "execution_count": 88,
   "metadata": {},
   "outputs": [],
   "source": [
    "from sklearn.model_selection import train_test_split\n",
    "X_train, X_test, y_train, y_test = train_test_split(wineX_5, \n",
    "                                                    wineY, \n",
    "                                                    test_size=0.33, \n",
    "                                                    random_state=42,\n",
    "                                                    stratify=wineY)"
   ]
  },
  {
   "cell_type": "code",
   "execution_count": 89,
   "metadata": {},
   "outputs": [],
   "source": [
    "# stratified cross validation\n",
    "from sklearn.model_selection import StratifiedKFold\n",
    "from sklearn.base import clone\n",
    "\n",
    "def stratFold(train_X_all, train_y_all, classifier, metric, average=None,\n",
    "              fold=5):\n",
    "    train_metric, val_metric, indices = [], [], []\n",
    "    for m in range(100, len(train_X_all), 100):\n",
    "        train_X = train_X_all[:m]\n",
    "        train_y = train_y_all[:m]\n",
    "        skfolds = StratifiedKFold(n_splits=fold)\n",
    "        metric_list = []\n",
    "        metric_list_train = []\n",
    "        for train_index, test_index in skfolds.split(train_X, train_y):\n",
    "            train_X_folds = train_X[train_index, :]\n",
    "            train_y_folds = train_y[train_index]\n",
    "            test_X_fold = train_X[test_index, :]\n",
    "            test_y_fold = train_y[test_index]\n",
    "            classifier.fit(train_X_folds, train_y_folds)\n",
    "            train_y_folds_pred = classifier.predict(train_X_folds)\n",
    "            test_y_fold_pred = classifier.predict(test_X_fold)\n",
    "            if average:\n",
    "                metric_list.append(metric(test_y_fold, test_y_fold_pred,\n",
    "                                     average=average))\n",
    "                metric_list_train.append(metric(train_y_folds, train_y_folds_pred, \n",
    "                                            average=average))\n",
    "            else:\n",
    "                metric_list.append(metric(test_y_fold, test_y_fold_pred))\n",
    "                metric_list_train.append(metric(train_y_folds, train_y_folds_pred))\n",
    "                \n",
    "        test_avg = sum(metric_list)/len(metric_list)\n",
    "        train_avg = sum(metric_list_train)/len(metric_list_train)\n",
    "        val_metric.append(test_avg)\n",
    "        train_metric.append(train_avg)\n",
    "        indices.append(m)\n",
    "    \n",
    "    return train_metric, val_metric, indices"
   ]
  },
  {
   "cell_type": "code",
   "execution_count": 90,
   "metadata": {},
   "outputs": [],
   "source": [
    "def plot_complexity(train_scores, val_scores, indices, title, inverse_x=True):\n",
    "    plt.plot(indices, train_scores , \"r-+\", linewidth=2, label=\"train\")\n",
    "    plt.plot(indices, val_scores, \"b-+\", linewidth=2, label=\"validation\")\n",
    "    plt.title(title)\n",
    "    plt.legend()\n",
    "    plt.grid(color='gray', linestyle='-', linewidth=0.5, alpha=0.3)\n",
    "    if inverse_x:\n",
    "        plt.gca().invert_xaxis()"
   ]
  },
  {
   "cell_type": "code",
   "execution_count": 91,
   "metadata": {},
   "outputs": [],
   "source": [
    "def plot_learning_curve(train_scores, val_scores, indices, title, inverse_x=False):\n",
    "    plt.plot(indices, train_scores , \"r-+\", linewidth=2, label=\"train\")\n",
    "    plt.plot(indices, val_scores, \"b-+\", linewidth=2, label=\"validation\")\n",
    "    plt.title(title)\n",
    "    plt.legend()\n",
    "    plt.grid(color='gray', linestyle='-', linewidth=0.5, alpha=0.3)\n",
    "    if inverse_x:\n",
    "        plt.gca().invert_xaxis()"
   ]
  },
  {
   "cell_type": "code",
   "execution_count": 92,
   "metadata": {},
   "outputs": [
    {
     "data": {
      "image/png": "[encoded data removed]",
      "text/plain": [
       "<Figure size 432x288 with 1 Axes>"
      ]
     },
     "metadata": {
      "needs_background": "light"
     },
     "output_type": "display_data"
    }
   ],
   "source": [
    "from sklearn.metrics import f1_score\n",
    "f1_scores = stratFold(X_train, y_train, neural_net, f1_score, \n",
    "                      average=\"weighted\")\n",
    "plot_learning_curve(f1_scores[0], f1_scores[1], f1_scores[2], \n",
    "                    title=\"f1_weighted score learning curve\")"
   ]
  },
  {
   "cell_type": "code",
   "execution_count": 93,
   "metadata": {},
   "outputs": [],
   "source": [
    "# start with the best net from Assignment 1\n",
    "best_net = MLPClassifier(activation='relu', alpha=0.1, batch_size='auto', beta_1=0.9,\n",
    "              beta_2=0.999, early_stopping=False, epsilon=1e-08,\n",
    "              hidden_layer_sizes=(60, 60), learning_rate='invscaling',\n",
    "              learning_rate_init=0.001, max_fun=15000, max_iter=200,\n",
    "              momentum=0.9, n_iter_no_change=10, nesterovs_momentum=True,\n",
    "              power_t=0.5, random_state=None, shuffle=True, solver='adam',\n",
    "              tol=0.0001, validation_fraction=0.1, verbose=False,\n",
    "              warm_start=False)"
   ]
  },
  {
   "cell_type": "code",
   "execution_count": 94,
   "metadata": {},
   "outputs": [],
   "source": [
    "from sklearn.metrics import f1_score\n",
    "f1_scores = stratFold(X_train, y_train, best_net, \n",
    "                      f1_score, average=\"weighted\")\n"
   ]
  },
  {
   "cell_type": "code",
   "execution_count": 95,
   "metadata": {},
   "outputs": [
    {
     "data": {
      "image/png": "[encoded data removed]",
      "text/plain": [
       "<Figure size 432x288 with 1 Axes>"
      ]
     },
     "metadata": {
      "needs_background": "light"
     },
     "output_type": "display_data"
    }
   ],
   "source": [
    "plot_learning_curve(f1_scores[0], f1_scores[1], f1_scores[2], \n",
    "                    title=\"f1_weighted score learning curve\")"
   ]
  },
  {
   "cell_type": "code",
   "execution_count": 96,
   "metadata": {},
   "outputs": [
    {
     "name": "stderr",
     "output_type": "stream",
     "text": [
      "[Parallel(n_jobs=-1)]: Using backend LokyBackend with 8 concurrent workers.\n",
      "[Parallel(n_jobs=-1)]: Done  15 out of  15 | elapsed:   33.1s finished\n"
     ]
    },
    {
     "name": "stdout",
     "output_type": "stream",
     "text": [
      "[0.91074432 0.91032036 0.90860153] [0.90420278 0.90423193 0.90561155] [(60, 60), (80, 80), (100, 100)]\n"
     ]
    },
    {
     "data": {
      "image/png": "[encoded data removed]",
      "text/plain": [
       "<Figure size 432x288 with 1 Axes>"
      ]
     },
     "metadata": {
      "needs_background": "light"
     },
     "output_type": "display_data"
    }
   ],
   "source": [
    "from sklearn.model_selection import validation_curve\n",
    "params = [60, 80, 100]\n",
    "param_range = [(60,60), (80,80), (100,100)]\n",
    "\n",
    "train_scores, test_scores = validation_curve(\n",
    "    best_net, X_train, y_train, param_name=\"hidden_layer_sizes\", \n",
    "    param_range=param_range, scoring='f1_weighted', verbose=1, cv=5, n_jobs=-1\n",
    ")\n",
    "print(train_scores.mean(axis=1), test_scores.mean(axis=1), param_range)\n",
    "plot_complexity(train_scores.mean(axis=1), test_scores.mean(axis=1), params, \n",
    "                title='f1_weighted on 2-layer hidden_layer complexity curve', inverse_x=True)"
   ]
  },
  {
   "cell_type": "code",
   "execution_count": 97,
   "metadata": {},
   "outputs": [],
   "source": [
    "# start with the best net from Assignment 1\n",
    "best_net_LassoSelection = MLPClassifier(activation='relu', alpha=0.1, batch_size='auto', \n",
    "                                        beta_1=0.9,\n",
    "              beta_2=0.999, early_stopping=False, epsilon=1e-08,\n",
    "              hidden_layer_sizes=(100, 100), learning_rate='invscaling',\n",
    "              learning_rate_init=0.001, max_fun=15000, max_iter=200,\n",
    "              momentum=0.9, n_iter_no_change=10, nesterovs_momentum=True,\n",
    "              power_t=0.5, random_state=None, shuffle=True, solver='adam',\n",
    "              tol=0.0001, validation_fraction=0.1, verbose=False,\n",
    "              warm_start=False)"
   ]
  },
  {
   "cell_type": "code",
   "execution_count": 99,
   "metadata": {},
   "outputs": [
    {
     "data": {
      "image/png": "[encoded data removed]",
      "text/plain": [
       "<Figure size 432x288 with 1 Axes>"
      ]
     },
     "metadata": {
      "needs_background": "light"
     },
     "output_type": "display_data"
    }
   ],
   "source": [
    "from sklearn.metrics import f1_score\n",
    "f1_scores = stratFold(X_train, y_train, best_net_LassoSelection, \n",
    "                      f1_score, average=\"weighted\")\n",
    "plot_learning_curve(f1_scores[0], f1_scores[1], f1_scores[2], title=\"f1_scores\")"
   ]
  },
  {
   "cell_type": "code",
   "execution_count": 101,
   "metadata": {},
   "outputs": [
    {
     "name": "stdout",
     "output_type": "stream",
     "text": [
      "              precision    recall  f1-score   support\n",
      "\n",
      "           1    0.90286   0.90979   0.90631       521\n",
      "           2    0.89833   0.89157   0.89494       664\n",
      "           3    0.89914   0.90108   0.90011       465\n",
      "\n",
      "    accuracy                        0.90000      1650\n",
      "   macro avg    0.90011   0.90081   0.90045      1650\n",
      "weighted avg    0.89999   0.90000   0.89998      1650\n",
      "\n",
      "[[474  31  16]\n",
      " [ 41 592  31]\n",
      " [ 10  36 419]]\n"
     ]
    }
   ],
   "source": [
    "from sklearn.metrics import confusion_matrix\n",
    "\n",
    "best_net_LassoSelection.fit(X_train, y_train)\n",
    "test_predictions = best_net_LassoSelection.predict(X_test)\n",
    "print(classification_report(y_test, test_predictions, digits=5))\n",
    "print(confusion_matrix(y_test, test_predictions))"
   ]
  },
  {
   "cell_type": "code",
   "execution_count": null,
   "metadata": {},
   "outputs": [],
   "source": []
  }
 ],
 "metadata": {
  "kernelspec": {
   "display_name": "Python 3",
   "language": "python",
   "name": "python3"
  },
  "language_info": {
   "codemirror_mode": {
    "name": "ipython",
    "version": 3
   },
   "file_extension": ".py",
   "mimetype": "text/x-python",
   "name": "python",
   "nbconvert_exporter": "python",
   "pygments_lexer": "ipython3",
   "version": "3.7.5"
  }
 },
 "nbformat": 4,
 "nbformat_minor": 4
}
