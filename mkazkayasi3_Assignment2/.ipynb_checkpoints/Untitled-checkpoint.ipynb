{
 "cells": [
  {
   "cell_type": "code",
   "execution_count": 144,
   "metadata": {},
   "outputs": [
    {
     "name": "stderr",
     "output_type": "stream",
     "text": [
      "UsageError: Line magic function `%install_ext` not found.\n"
     ]
    }
   ],
   "source": [
    "import mlrose\n",
    "import numpy as np\n",
    "np.random.seed(44)"
   ]
  },
  {
   "cell_type": "markdown",
   "metadata": {},
   "source": [
    "## Define a Fitness Function"
   ]
  },
  {
   "cell_type": "code",
   "execution_count": 145,
   "metadata": {},
   "outputs": [],
   "source": [
    "# the first step is to define the fitness function\n",
    "fitness = mlrose.Queens()\n"
   ]
  },
  {
   "cell_type": "code",
   "execution_count": 14,
   "metadata": {},
   "outputs": [],
   "source": [
    "# define alternative N-Queens fitness function for maximization prob.\n",
    "def queeens_max(state):\n",
    "    fitness_cnt = 0\n",
    "    for i in range(len(state)-1):\n",
    "        for j in range(i+1, len(state)):\n",
    "            # check for attacking pairs\n",
    "            if (state[j] != state[i]) \\\n",
    "                and (state[j] != state[i] + (j-i)) \\\n",
    "                and (state[j] != state[i] - (j-i)):\n",
    "                \n",
    "                # if noa attack\n",
    "                fitness_cnt +=1\n",
    "\n",
    "    return fitness_cnt\n",
    "\n",
    "fitness_cust = mlrose.CustomFitness(queeens_max)"
   ]
  },
  {
   "cell_type": "markdown",
   "metadata": {},
   "source": [
    "## Define an Optimization Problem Object\n",
    "We use the fitness function as input into the optimization problem\n",
    "\n",
    "__TSPOpt() descrive TSP optimization__"
   ]
  },
  {
   "cell_type": "code",
   "execution_count": 180,
   "metadata": {},
   "outputs": [
    {
     "data": {
      "text/plain": [
       "2080"
      ]
     },
     "execution_count": 180,
     "metadata": {},
     "output_type": "execute_result"
    }
   ],
   "source": [
    "# there are 190 possible attacks (x2 actually)\n",
    "possible_attack = 0\n",
    "number_of_queens = 64 \n",
    "for i in range(number_of_queens,0,-1):\n",
    "    possible_attack += i\n",
    "possible_attack"
   ]
  },
  {
   "cell_type": "markdown",
   "metadata": {},
   "source": [
    "### Random Hill Climb"
   ]
  },
  {
   "cell_type": "code",
   "execution_count": 181,
   "metadata": {},
   "outputs": [
    {
     "name": "stdout",
     "output_type": "stream",
     "text": [
      "CPU times: user 2min 34s, sys: 35.4 ms, total: 2min 34s\n",
      "Wall time: 2min 34s\n"
     ]
    }
   ],
   "source": [
    "%%time\n",
    "# DiscreteOpt() takes integers in range 0 to max_val-1\n",
    "problem = mlrose.DiscreteOpt(length = number_of_queens, fitness_fn = fitness_cust, \n",
    "                             maximize = True, max_val = number_of_queens)\n",
    "\n",
    "state, fit, curve = mlrose.random_hill_climb(problem, max_attempts=100,\n",
    "                                             restarts=100, init_state=None,\n",
    "                                                       curve=True)"
   ]
  },
  {
   "cell_type": "code",
   "execution_count": 182,
   "metadata": {},
   "outputs": [
    {
     "data": {
      "text/plain": [
       "(array([25, 49, 39, 46, 13, 38, 59, 27, 62, 37, 10, 24, 11, 55,  8,  0, 23,\n",
       "        13, 22, 36, 40, 61, 15, 21, 56, 61, 31, 18, 20, 63, 53,  0, 59, 51,\n",
       "         4, 50, 58, 34, 41, 14,  2, 52, 19, 44, 32, 29, 54,  5, 30, 63, 17,\n",
       "        46, 12, 57, 60, 26, 42, 33, 30,  7,  3, 35, 43,  9]),\n",
       " 2007.0,\n",
       " array([1937., 1937., 1943., ..., 2003., 2003., 2003.]))"
      ]
     },
     "execution_count": 182,
     "metadata": {},
     "output_type": "execute_result"
    }
   ],
   "source": [
    "state, fit, curve"
   ]
  },
  {
   "cell_type": "code",
   "execution_count": 165,
   "metadata": {},
   "outputs": [
    {
     "data": {
      "text/plain": [
       "'\\nproblem = mlrose.DiscreteOpt(length = 20, fitness_fn = fitness, \\n                             maximize = False, max_val = 20)\\n\\nbext_state_1, best_fit_1, fit_curve_1 = mlrose.random_hill_climb(problem, max_attempts=1000,\\n                                                           restarts=200, init_state=None,\\n                                                           curve=True, random_state=44)\\n'"
      ]
     },
     "execution_count": 165,
     "metadata": {},
     "output_type": "execute_result"
    }
   ],
   "source": [
    "### DO NOT USE THIS \n",
    "# DiscreteOpt() takes integers in range 0 to max_val-1\n",
    "\"\"\"\n",
    "problem = mlrose.DiscreteOpt(length = 20, fitness_fn = fitness, \n",
    "                             maximize = False, max_val = 20)\n",
    "\n",
    "bext_state_1, best_fit_1, fit_curve_1 = mlrose.random_hill_climb(problem, max_attempts=1000,\n",
    "                                                           restarts=200, init_state=None,\n",
    "                                                           curve=True, random_state=44)\n",
    "\"\"\""
   ]
  },
  {
   "cell_type": "code",
   "execution_count": 184,
   "metadata": {},
   "outputs": [
    {
     "name": "stdout",
     "output_type": "stream",
     "text": [
      "CPU times: user 1min 29s, sys: 11.6 ms, total: 1min 29s\n",
      "Wall time: 1min 29s\n"
     ]
    }
   ],
   "source": [
    "%%time\n",
    "exps = [0.0001, 0.0005, 0.001, 0.005, 0.01, 0.05]\n",
    "problem = mlrose.DiscreteOpt(length = number_of_queens, fitness_fn = fitness_cust, \n",
    "                             maximize = True, max_val = number_of_queens)\n",
    "sa_states, sa_fits, sa_curves = [], [], []\n",
    "\n",
    "for exp in exps:\n",
    "    \n",
    "    schedule = mlrose.ExpDecay(exp_const=exp)\n",
    "    sa_state, sa_fit, sa_curve = mlrose.simulated_annealing(problem, schedule=schedule, \n",
    "                                                            max_attempts=100, \n",
    "                                                            init_state=None, curve=True, \n",
    "                                                            random_state=44)\n",
    "    sa_states.append(sa_state)\n",
    "    sa_fits.append(sa_fit)\n",
    "    sa_curves.append(sa_curve)"
   ]
  },
  {
   "cell_type": "code",
   "execution_count": 186,
   "metadata": {},
   "outputs": [
    {
     "data": {
      "text/plain": [
       "[2008.0, 2010.0, 2012.0, 2010.0, 2008.0, 2011.0]"
      ]
     },
     "execution_count": 186,
     "metadata": {},
     "output_type": "execute_result"
    }
   ],
   "source": [
    "sa_fits"
   ]
  },
  {
   "cell_type": "code",
   "execution_count": 187,
   "metadata": {},
   "outputs": [
    {
     "name": "stdout",
     "output_type": "stream",
     "text": [
      "CPU times: user 13min 3s, sys: 40.1 ms, total: 13min 3s\n",
      "Wall time: 13min 3s\n"
     ]
    }
   ],
   "source": [
    "%%time\n",
    "problem = mlrose.DiscreteOpt(length = number_of_queens, fitness_fn = fitness_cust, \n",
    "                             maximize = True, max_val = number_of_queens)\n",
    "ga_states, ga_fits, ga_curves = [], [], []\n",
    "mutation_probs = [0.01, 0.05, 0.8, 0.1, 0.25, 0.5]\n",
    "for prob in mutation_probs:\n",
    "    ga_state, ga_fit, ga_curve = mlrose.genetic_alg(problem, pop_size=200, \n",
    "                                                mutation_prob=prob,\n",
    "                                                max_attempts=100, \n",
    "                                                curve=True)\n",
    "    ga_states.append(ga_state)\n",
    "    ga_fits.append(ga_fit)\n",
    "    ga_curves.append(ga_curve) "
   ]
  },
  {
   "cell_type": "code",
   "execution_count": 189,
   "metadata": {},
   "outputs": [
    {
     "data": {
      "text/plain": [
       "[1970.0, 1972.0, 1972.0, 1976.0, 1972.0, 1976.0]"
      ]
     },
     "execution_count": 189,
     "metadata": {},
     "output_type": "execute_result"
    }
   ],
   "source": [
    "ga_fits"
   ]
  },
  {
   "cell_type": "code",
   "execution_count": null,
   "metadata": {},
   "outputs": [],
   "source": [
    "%%time\n",
    "problem = mlrose.DiscreteOpt(length = number_of_queens, fitness_fn = fitness_cust, \n",
    "                             maximize = True, max_val = number_of_queens)\n",
    "mim_states, mim_fits, mim_curves = [], [], []\n",
    "keep_pcts = [0.05, 0.1, 0.25, 0.5]\n",
    "for pct in keep_pcts:\n",
    "    mim_state, mim_fit, mim_curve = mlrose.mimic(problem, pop_size=200, keep_pct=pct, \n",
    "                                       max_attempts=100, curve=True, fast_mimic=True)\n",
    "    mim_states.append(ga_state)\n",
    "    mim_fits.append(ga_fit)\n",
    "    mim_curves.append(ga_curve) \n"
   ]
  },
  {
   "cell_type": "code",
   "execution_count": null,
   "metadata": {},
   "outputs": [],
   "source": []
  }
 ],
 "metadata": {
  "kernelspec": {
   "display_name": "Python 3",
   "language": "python",
   "name": "python3"
  },
  "language_info": {
   "codemirror_mode": {
    "name": "ipython",
    "version": 3
   },
   "file_extension": ".py",
   "mimetype": "text/x-python",
   "name": "python",
   "nbconvert_exporter": "python",
   "pygments_lexer": "ipython3",
   "version": "3.7.5"
  }
 },
 "nbformat": 4,
 "nbformat_minor": 2
}
