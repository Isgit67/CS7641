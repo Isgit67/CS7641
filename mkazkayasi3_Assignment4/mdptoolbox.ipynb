{
 "cells": [
  {
   "cell_type": "code",
   "execution_count": 8,
   "metadata": {},
   "outputs": [],
   "source": [
    "from hiive.mdptoolbox import mdp\n",
    "import mdptoolbox\n",
    "import gym\n",
    "import numpy as np\n",
    "import sys\n",
    "import os\n",
    "np.random.seed(44)"
   ]
  },
  {
   "cell_type": "code",
   "execution_count": 44,
   "metadata": {},
   "outputs": [],
   "source": [
    "# env = gym.make('FrozenLake-v0', map_name=\"8x8\").env\n",
    "env = gym.make(\"Taxi-v3\")\n",
    "P = np.zeros((env.action_space.n, env.observation_space.n, env.observation_space.n))\n",
    "R = np.zeros((env.action_space.n, env.observation_space.n, env.observation_space.n))\n"
   ]
  },
  {
   "cell_type": "code",
   "execution_count": 45,
   "metadata": {},
   "outputs": [],
   "source": [
    "for state in env.P:\n",
    "    for action in env.P[state]:\n",
    "        for prob, new_state, reward, done in env.P[state][action]:\n",
    "            P[action][state][new_state] += prob\n",
    "            R[action][state][new_state] = reward"
   ]
  },
  {
   "cell_type": "code",
   "execution_count": 46,
   "metadata": {},
   "outputs": [
    {
     "data": {
      "text/plain": [
       "313"
      ]
     },
     "execution_count": 46,
     "metadata": {},
     "output_type": "execute_result"
    }
   ],
   "source": [
    "vi = mdptoolbox.mdp.ValueIteration(P, R, discount=0.9, epsilon=1e-12, max_iter=1e12)\n",
    "vi.run()\n",
    "policy = vi.policy # result is (0, 0, 0)\n",
    "vi.iter"
   ]
  },
  {
   "cell_type": "code",
   "execution_count": 47,
   "metadata": {},
   "outputs": [
    {
     "data": {
      "text/plain": [
       "16"
      ]
     },
     "execution_count": 47,
     "metadata": {},
     "output_type": "execute_result"
    }
   ],
   "source": [
    "pi = mdptoolbox.mdp.PolicyIteration(P, R, discount=0.9)\n",
    "pi.run()\n",
    "pi_policy = pi.policy\n",
    "pi.iter"
   ]
  },
  {
   "cell_type": "code",
   "execution_count": 48,
   "metadata": {},
   "outputs": [],
   "source": [
    "q = mdptoolbox.mdp.QLearning(P, R, discount=0.9, n_iter=1e5)\n",
    "q.run()\n",
    "q_policy = q.policy"
   ]
  },
  {
   "cell_type": "markdown",
   "metadata": {},
   "source": [
    "## Single Step Run"
   ]
  },
  {
   "cell_type": "code",
   "execution_count": 52,
   "metadata": {},
   "outputs": [],
   "source": [
    "current_state = env.reset()\n",
    "rewards = []"
   ]
  },
  {
   "cell_type": "code",
   "execution_count": null,
   "metadata": {},
   "outputs": [],
   "source": [
    "\n",
    "act = int(policy[current_state])\n",
    "\n",
    "print(act)\n",
    "new_state, reward, finished, _ = env.step(act)\n",
    "rewards.append(reward)\n",
    "current_state = new_state\n",
    "print(finished, reward)\n",
    "env.render()"
   ]
  },
  {
   "cell_type": "code",
   "execution_count": null,
   "metadata": {},
   "outputs": [],
   "source": [
    "\n",
    "act = int(pi_policy[current_state])\n",
    "\n",
    "print(act)\n",
    "new_state, reward, finished, _ = env.step(act)\n",
    "rewards.append(reward)\n",
    "current_state = new_state\n",
    "print(finished, reward)\n",
    "env.render()"
   ]
  },
  {
   "cell_type": "code",
   "execution_count": 84,
   "metadata": {},
   "outputs": [
    {
     "name": "stdout",
     "output_type": "stream",
     "text": [
      "1\n",
      "False -1\n",
      "+---------+\n",
      "|\u001b[35mR\u001b[0m:\u001b[43m \u001b[0m| : :G|\n",
      "| : | : : |\n",
      "| : : : : |\n",
      "| | : | : |\n",
      "|\u001b[34;1mY\u001b[0m| : |B: |\n",
      "+---------+\n",
      "  (North)\n"
     ]
    }
   ],
   "source": [
    "\n",
    "act = int(q_policy[current_state])\n",
    "\n",
    "print(act)\n",
    "new_state, reward, finished, _ = env.step(act)\n",
    "rewards.append(reward)\n",
    "current_state = new_state\n",
    "print(finished, reward)\n",
    "env.render()"
   ]
  },
  {
   "cell_type": "markdown",
   "metadata": {},
   "source": [
    "## Multiple Step Run"
   ]
  },
  {
   "cell_type": "code",
   "execution_count": 86,
   "metadata": {},
   "outputs": [
    {
     "name": "stdout",
     "output_type": "stream",
     "text": [
      "Finished at step:  14\n",
      "+---------+\n",
      "|R: | : :\u001b[35m\u001b[34;1m\u001b[43mG\u001b[0m\u001b[0m\u001b[0m|\n",
      "| : | : : |\n",
      "| : : : : |\n",
      "| | : | : |\n",
      "|Y| : |B: |\n",
      "+---------+\n",
      "  (Dropoff)\n"
     ]
    }
   ],
   "source": [
    "done = False\n",
    "ep = 0\n",
    "current_state = env.reset()\n",
    "while not done:\n",
    "    ep += 1\n",
    "    act = int(policy[current_state])\n",
    "    new_state, reward, done, _ = env.step(act)\n",
    "    current_state = new_state\n",
    "#     print(done, reward, new_state)\n",
    "print(\"Finished at step: \", ep)\n",
    "env.render()    "
   ]
  },
  {
   "cell_type": "code",
   "execution_count": 87,
   "metadata": {},
   "outputs": [
    {
     "name": "stdout",
     "output_type": "stream",
     "text": [
      "Finished at step:  15\n",
      "+---------+\n",
      "|\u001b[35m\u001b[34;1m\u001b[43mR\u001b[0m\u001b[0m\u001b[0m: | : :G|\n",
      "| : | : : |\n",
      "| : : : : |\n",
      "| | : | : |\n",
      "|Y| : |B: |\n",
      "+---------+\n",
      "  (Dropoff)\n"
     ]
    }
   ],
   "source": [
    "done = False\n",
    "ep = 0\n",
    "current_state = env.reset()\n",
    "while not done:\n",
    "    ep += 1\n",
    "    act = int(pi_policy[current_state])\n",
    "    new_state, reward, done, _ = env.step(act)\n",
    "    current_state = new_state\n",
    "#     print(done, reward, new_state)\n",
    "print(\"Finished at step: \", ep)\n",
    "env.render()    "
   ]
  },
  {
   "cell_type": "code",
   "execution_count": 88,
   "metadata": {},
   "outputs": [
    {
     "name": "stdout",
     "output_type": "stream",
     "text": [
      "Finished at step:  200\n",
      "+---------+\n",
      "|\u001b[35mR\u001b[0m: | :\u001b[43m \u001b[0m:\u001b[34;1mG\u001b[0m|\n",
      "| : | : : |\n",
      "| : : : : |\n",
      "| | : | : |\n",
      "|Y| : |B: |\n",
      "+---------+\n",
      "  (North)\n"
     ]
    }
   ],
   "source": [
    "done = False\n",
    "ep = 0\n",
    "current_state = env.reset()\n",
    "while not done:\n",
    "    ep += 1\n",
    "    act = int(q_policy[current_state])\n",
    "    new_state, reward, done, _ = env.step(act)\n",
    "    current_state = new_state\n",
    "#     print(done, reward, new_state)\n",
    "print(\"Finished at step: \", ep)\n",
    "env.render()    "
   ]
  },
  {
   "cell_type": "code",
   "execution_count": null,
   "metadata": {},
   "outputs": [],
   "source": []
  }
 ],
 "metadata": {
  "kernelspec": {
   "display_name": "Python 3",
   "language": "python",
   "name": "python3"
  },
  "language_info": {
   "codemirror_mode": {
    "name": "ipython",
    "version": 3
   },
   "file_extension": ".py",
   "mimetype": "text/x-python",
   "name": "python",
   "nbconvert_exporter": "python",
   "pygments_lexer": "ipython3",
   "version": "3.7.5"
  }
 },
 "nbformat": 4,
 "nbformat_minor": 4
}
