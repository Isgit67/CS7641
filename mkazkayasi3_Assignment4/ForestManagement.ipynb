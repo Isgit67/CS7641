{
 "cells": [
  {
   "cell_type": "code",
   "execution_count": 7,
   "metadata": {},
   "outputs": [],
   "source": [
    "import mdptoolbox.example\n",
    "import mdptoolbox\n",
    "import gym\n",
    "import numpy as np\n",
    "import sys\n",
    "import os\n",
    "np.random.seed(44)"
   ]
  },
  {
   "cell_type": "code",
   "execution_count": 4,
   "metadata": {},
   "outputs": [],
   "source": [
    "def test_policy(env, policy, n_epoch=1000):\n",
    "    rewards = []\n",
    "    episode_counts = []\n",
    "    for i in range(n_epoch):\n",
    "        current_state = env.reset()\n",
    "        ep = 0\n",
    "        done = False\n",
    "        episode_reward = 0\n",
    "        while not done and ep < 10000:\n",
    "            ep += 1\n",
    "            act = int(policy[current_state])\n",
    "            new_state, reward, done, _ = env.step(act)\n",
    "            episode_reward += reward\n",
    "            current_state = new_state\n",
    "        rewards.append(episode_reward)\n",
    "        episode_counts.append(ep)\n",
    "    \n",
    "    # all done\n",
    "    mean_reward = sum(rewards)/len(rewards)\n",
    "    mean_eps = sum(episode_counts)/len(episode_counts)\n",
    "    return mean_reward, mean_eps, rewards, episode_counts \n",
    "            \n",
    "            \n",
    "        \n",
    "        "
   ]
  },
  {
   "cell_type": "code",
   "execution_count": 142,
   "metadata": {},
   "outputs": [],
   "source": [
    "P, R = mdptoolbox.example.forest(S=100, r1=5.17, r2=10, p=0)"
   ]
  },
  {
   "cell_type": "code",
   "execution_count": 154,
   "metadata": {},
   "outputs": [
    {
     "data": {
      "text/plain": [
       "False"
      ]
     },
     "execution_count": 154,
     "metadata": {},
     "output_type": "execute_result"
    }
   ],
   "source": [
    "1e-3255555 < 0"
   ]
  },
  {
   "cell_type": "code",
   "execution_count": 155,
   "metadata": {},
   "outputs": [
    {
     "data": {
      "text/plain": [
       "55"
      ]
     },
     "execution_count": 155,
     "metadata": {},
     "output_type": "execute_result"
    }
   ],
   "source": [
    "vi = mdptoolbox.mdp.ValueIteration(P, R, discount=0.5, \n",
    "                                   epsilon=1e-322, \n",
    "                                   max_iter=int(1e15))\n",
    "vi.run()\n",
    "vi.iter"
   ]
  },
  {
   "cell_type": "code",
   "execution_count": 144,
   "metadata": {},
   "outputs": [
    {
     "data": {
      "text/plain": [
       "array([0, 1, 1, 1, 1, 1, 1, 1, 1, 1, 1, 1, 1, 1, 1, 1, 1, 1, 1, 1, 1, 1,\n",
       "       1, 1, 1, 1, 1, 1, 1, 1, 1, 1, 1, 1, 1, 1, 1, 1, 1, 1, 1, 1, 1, 1,\n",
       "       1, 1, 1, 1, 1, 1, 1, 1, 1, 1, 1, 1, 1, 1, 1, 1, 1, 1, 1, 1, 1, 1,\n",
       "       1, 1, 1, 1, 1, 1, 1, 1, 1, 1, 1, 1, 1, 1, 1, 1, 1, 1, 1, 1, 1, 1,\n",
       "       1, 1, 1, 1, 1, 1, 1, 1, 1, 0, 0, 0])"
      ]
     },
     "execution_count": 144,
     "metadata": {},
     "output_type": "execute_result"
    }
   ],
   "source": [
    "np.asarray(vi.policy)"
   ]
  },
  {
   "cell_type": "code",
   "execution_count": null,
   "metadata": {},
   "outputs": [],
   "source": []
  },
  {
   "cell_type": "code",
   "execution_count": 12,
   "metadata": {},
   "outputs": [],
   "source": [
    "# env = gym.make('FrozenLake-v0', map_name=\"8x8\").env\n",
    "env = gym.make('FrozenLake-v0').env\n",
    "# env = gym.make(\"Taxi-v3\")\n",
    "P = np.zeros((env.action_space.n, env.observation_space.n, env.observation_space.n))\n",
    "R = np.zeros((env.action_space.n, env.observation_space.n, env.observation_space.n))\n",
    "\n",
    "for state in env.P:\n",
    "    for action in env.P[state]:\n",
    "        for prob, new_state, reward, done in env.P[state][action]:\n",
    "            P[action][state][new_state] += prob\n",
    "            R[action][state][new_state] = reward\n",
    "for state in env.P:\n",
    "    for action in env.P[state]:\n",
    "        for prob, new_state, reward, done in env.P[state][action]:\n",
    "            if done:\n",
    "                P[action][new_state][:] = 0\n",
    "                P[action][new_state][0] = 1\n",
    "                R[action][new_state][0] = -1\n",
    "#                 print(new_state, P[action][new_state])\n"
   ]
  },
  {
   "cell_type": "code",
   "execution_count": 13,
   "metadata": {},
   "outputs": [],
   "source": [
    "def train_and_test(env, P, R, discount=[0.9], epsilon=[1e-9], \n",
    "                   n_iters=[1e6], mute=False):\n",
    "    \n",
    "    vi_dict = {}\n",
    "    \n",
    "    for dis in discount:\n",
    "        vi_dict[dis] = {}\n",
    "        for eps in epsilon:\n",
    "            vi_dict[dis][eps] = {}\n",
    "            # run value iteration\n",
    "            vi = mdptoolbox.mdp.ValueIteration(P, R, discount=dis, \n",
    "                                               epsilon=eps, \n",
    "                                               max_iter=int(1e9))\n",
    "            vi.run()\n",
    "            vi_mrews, vi_meps, vi_rews, vi_eps = test_policy(env, vi.policy)    \n",
    "            vi_dict[dis][eps][\"mean_reward\"] = vi_mrews\n",
    "            vi_dict[dis][eps][\"mean_eps\"] = vi_meps\n",
    "            vi_dict[dis][eps][\"policy\"] = vi.policy\n",
    "            vi_dict[dis][eps][\"iteration\"] = vi.iter\n",
    "            if not mute:\n",
    "                print(\"Value iteration discount: {} eps: {} iter: {}\".format(dis, eps, vi.iter))\n",
    "                print(\"Mean reward: {} - mean eps: {}\".format(vi_mrews, vi_meps))\n",
    "    # run policy iteration\n",
    "    pi_dict = {}\n",
    "    for dis in discount:\n",
    "        pi_dict[dis] = {}\n",
    "        \n",
    "        pi = mdptoolbox.mdp.PolicyIteration(P, R, discount=dis, max_iter=int(1e6))\n",
    "        pi.run()\n",
    "        pi_mrews, pi_meps, pi_rews, pi_eps = test_policy(env, pi.policy)    \n",
    "        pi_dict[dis][\"mean_reward\"] = pi_mrews\n",
    "        pi_dict[dis][\"mean_eps\"] = pi_meps\n",
    "        pi_dict[dis][\"policy\"] = pi.policy\n",
    "        pi_dict[dis][\"iteration\"] = pi.iter\n",
    "        if not mute:\n",
    "            print(\"Policy iteration discount: {} iter: {}\".format(dis, pi.iter))            \n",
    "            print(\"Mean reward: {} - mean eps: {}\".format(pi_mrews, pi_meps))\n",
    "    \n",
    "    q_dict = {}\n",
    "    for dis in discount:\n",
    "        q_dict[dis] = {}\n",
    "        for n_iter in n_iters:\n",
    "            q_dict[dis][n_iter] = {}\n",
    "            # run first\n",
    "            q = mdptoolbox.mdp.QLearning(P, R, discount=dis, n_iter=n_iter)\n",
    "            q.run()\n",
    "            q_mrews, q_meps, q_rews, q_eps = test_policy(env, q.policy)\n",
    "            q_dict[dis][n_iter]['mean_reward'] = q_mrews\n",
    "            q_dict[dis][n_iter]['mean_eps'] = q_meps\n",
    "            q_dict[dis][n_iter]['policy'] = q.policy\n",
    "            if not mute:\n",
    "                print(\"Q-learning iteration for {} discount and {} iterations is done\".format(dis, n_iter))\n",
    "                print(\"Mean reward: {} - mean eps: {}\".format(q_mrews, q_meps))\n",
    "    \n",
    "    return vi_dict, pi_dict, q_dict"
   ]
  },
  {
   "cell_type": "code",
   "execution_count": 14,
   "metadata": {},
   "outputs": [],
   "source": [
    "discounts = [0.1, 0.5, 0.75, 0.9, 0.95, 0.99]\n",
    "epsilones = [1e-3, 1e-6, 1e-9, 1e-12]\n",
    "n_iters = [10000, 100000, 1000000]"
   ]
  },
  {
   "cell_type": "code",
   "execution_count": null,
   "metadata": {},
   "outputs": [
    {
     "name": "stdout",
     "output_type": "stream",
     "text": [
      "Value iteration discount: 0.1 eps: 0.001 iter: 3\n",
      "Mean reward: 0.822 - mean eps: 49.409\n",
      "Value iteration discount: 0.1 eps: 1e-06 iter: 5\n",
      "Mean reward: 0.818 - mean eps: 48.353\n",
      "Value iteration discount: 0.1 eps: 1e-09 iter: 8\n",
      "Mean reward: 0.835 - mean eps: 48.498\n",
      "Value iteration discount: 0.1 eps: 1e-12 iter: 11\n",
      "Mean reward: 0.822 - mean eps: 47.959\n",
      "Value iteration discount: 0.5 eps: 0.001 iter: 7\n",
      "Mean reward: 0.806 - mean eps: 49.186\n",
      "Value iteration discount: 0.5 eps: 1e-06 iter: 14\n",
      "Mean reward: 0.821 - mean eps: 49.146\n",
      "Value iteration discount: 0.5 eps: 1e-09 iter: 23\n",
      "Mean reward: 0.822 - mean eps: 48.364\n",
      "Value iteration discount: 0.5 eps: 1e-12 iter: 32\n",
      "Mean reward: 0.827 - mean eps: 47.795\n",
      "Value iteration discount: 0.75 eps: 0.001 iter: 12\n",
      "Mean reward: 0.806 - mean eps: 48.351\n",
      "Value iteration discount: 0.75 eps: 1e-06 iter: 31\n",
      "Mean reward: 0.824 - mean eps: 48.024\n",
      "Value iteration discount: 0.75 eps: 1e-09 iter: 50\n",
      "Mean reward: 0.822 - mean eps: 48.285\n",
      "Value iteration discount: 0.75 eps: 1e-12 iter: 69\n",
      "Mean reward: 0.835 - mean eps: 49.569\n"
     ]
    }
   ],
   "source": [
    "# reward is 0 4x4\n",
    "vid, pid, qd = train_and_test(env, P, R, discounts, epsilones, n_iters, False)"
   ]
  },
  {
   "cell_type": "code",
   "execution_count": null,
   "metadata": {},
   "outputs": [],
   "source": [
    "vid"
   ]
  },
  {
   "cell_type": "code",
   "execution_count": 8,
   "metadata": {},
   "outputs": [],
   "source": [
    "frozen_lake = {}\n",
    "frozen_lake[4] = {}\n",
    "frozen_lake[4][0] = (vid, pid, qd)"
   ]
  },
  {
   "cell_type": "code",
   "execution_count": null,
   "metadata": {},
   "outputs": [],
   "source": []
  },
  {
   "cell_type": "code",
   "execution_count": null,
   "metadata": {},
   "outputs": [],
   "source": []
  },
  {
   "cell_type": "code",
   "execution_count": null,
   "metadata": {},
   "outputs": [],
   "source": []
  },
  {
   "cell_type": "code",
   "execution_count": 10,
   "metadata": {},
   "outputs": [],
   "source": [
    "# reward is -1 4x4\n",
    "vid, pid, qd = train_and_test(env, P, R, discounts, epsilones, n_iters, True)"
   ]
  },
  {
   "cell_type": "code",
   "execution_count": 11,
   "metadata": {},
   "outputs": [],
   "source": [
    "frozen_lake[4][-1] = (vid, pid, qd)"
   ]
  },
  {
   "cell_type": "code",
   "execution_count": 13,
   "metadata": {},
   "outputs": [
    {
     "data": {
      "text/plain": [
       "{0.5: {0.001: {'mean_reward': 0.421,\n",
       "   'mean_eps': 26.52,\n",
       "   'policy': (1, 3, 2, 3, 0, 0, 0, 0, 3, 1, 0, 0, 0, 2, 1, 0)},\n",
       "  1e-06: {'mean_reward': 0.453,\n",
       "   'mean_eps': 28.354,\n",
       "   'policy': (1, 3, 2, 3, 0, 0, 0, 0, 3, 1, 0, 0, 0, 2, 1, 0)},\n",
       "  1e-09: {'mean_reward': 0.452,\n",
       "   'mean_eps': 27.579,\n",
       "   'policy': (1, 3, 2, 3, 0, 0, 0, 0, 3, 1, 0, 0, 0, 2, 1, 0)},\n",
       "  1e-12: {'mean_reward': 0.46,\n",
       "   'mean_eps': 26.115,\n",
       "   'policy': (1, 3, 2, 3, 0, 0, 0, 0, 3, 1, 0, 0, 0, 2, 1, 0)}},\n",
       " 0.75: {0.001: {'mean_reward': 0.436,\n",
       "   'mean_eps': 27.014,\n",
       "   'policy': (1, 3, 2, 3, 0, 0, 0, 0, 3, 1, 0, 0, 0, 2, 1, 0)},\n",
       "  1e-06: {'mean_reward': 0.437,\n",
       "   'mean_eps': 28.812,\n",
       "   'policy': (1, 3, 2, 3, 0, 0, 0, 0, 3, 1, 0, 0, 0, 2, 1, 0)},\n",
       "  1e-09: {'mean_reward': 0.464,\n",
       "   'mean_eps': 26.948,\n",
       "   'policy': (1, 3, 2, 3, 0, 0, 0, 0, 3, 1, 0, 0, 0, 2, 1, 0)},\n",
       "  1e-12: {'mean_reward': 0.447,\n",
       "   'mean_eps': 27.225,\n",
       "   'policy': (1, 3, 2, 3, 0, 0, 0, 0, 3, 1, 0, 0, 0, 2, 1, 0)}},\n",
       " 0.9: {0.001: {'mean_reward': 0.716,\n",
       "   'mean_eps': 40.369,\n",
       "   'policy': (0, 3, 0, 3, 0, 0, 0, 0, 3, 1, 0, 0, 0, 2, 1, 0)},\n",
       "  1e-06: {'mean_reward': 0.719,\n",
       "   'mean_eps': 42.86,\n",
       "   'policy': (0, 3, 0, 3, 0, 0, 0, 0, 3, 1, 0, 0, 0, 2, 1, 0)},\n",
       "  1e-09: {'mean_reward': 0.749,\n",
       "   'mean_eps': 41.456,\n",
       "   'policy': (0, 3, 0, 3, 0, 0, 0, 0, 3, 1, 0, 0, 0, 2, 1, 0)},\n",
       "  1e-12: {'mean_reward': 0.718,\n",
       "   'mean_eps': 41.738,\n",
       "   'policy': (0, 3, 0, 3, 0, 0, 0, 0, 3, 1, 0, 0, 0, 2, 1, 0)}},\n",
       " 0.95: {0.001: {'mean_reward': 0.71,\n",
       "   'mean_eps': 41.142,\n",
       "   'policy': (0, 3, 0, 3, 0, 0, 0, 0, 3, 1, 0, 0, 0, 2, 1, 0)},\n",
       "  1e-06: {'mean_reward': 0.734,\n",
       "   'mean_eps': 41.394,\n",
       "   'policy': (0, 3, 0, 3, 0, 0, 0, 0, 3, 1, 0, 0, 0, 2, 1, 0)},\n",
       "  1e-09: {'mean_reward': 0.703,\n",
       "   'mean_eps': 41.768,\n",
       "   'policy': (0, 3, 0, 3, 0, 0, 0, 0, 3, 1, 0, 0, 0, 2, 1, 0)},\n",
       "  1e-12: {'mean_reward': 0.719,\n",
       "   'mean_eps': 40.353,\n",
       "   'policy': (0, 3, 0, 3, 0, 0, 0, 0, 3, 1, 0, 0, 0, 2, 1, 0)}},\n",
       " 0.99: {0.001: {'mean_reward': 0.755,\n",
       "   'mean_eps': 43.8,\n",
       "   'policy': (0, 3, 3, 3, 0, 0, 0, 0, 3, 1, 0, 0, 0, 2, 1, 0)},\n",
       "  1e-06: {'mean_reward': 0.731,\n",
       "   'mean_eps': 44.902,\n",
       "   'policy': (0, 3, 3, 3, 0, 0, 0, 0, 3, 1, 0, 0, 0, 2, 1, 0)},\n",
       "  1e-09: {'mean_reward': 0.721,\n",
       "   'mean_eps': 45.531,\n",
       "   'policy': (0, 3, 3, 3, 0, 0, 0, 0, 3, 1, 0, 0, 0, 2, 1, 0)},\n",
       "  1e-12: {'mean_reward': 0.739,\n",
       "   'mean_eps': 45.196,\n",
       "   'policy': (0, 3, 3, 3, 0, 0, 0, 0, 3, 1, 0, 0, 0, 2, 1, 0)}}}"
      ]
     },
     "execution_count": 13,
     "metadata": {},
     "output_type": "execute_result"
    }
   ],
   "source": [
    "vid"
   ]
  }
 ],
 "metadata": {
  "kernelspec": {
   "display_name": "Python 3",
   "language": "python",
   "name": "python3"
  },
  "language_info": {
   "codemirror_mode": {
    "name": "ipython",
    "version": 3
   },
   "file_extension": ".py",
   "mimetype": "text/x-python",
   "name": "python",
   "nbconvert_exporter": "python",
   "pygments_lexer": "ipython3",
   "version": "3.7.5"
  }
 },
 "nbformat": 4,
 "nbformat_minor": 4
}
