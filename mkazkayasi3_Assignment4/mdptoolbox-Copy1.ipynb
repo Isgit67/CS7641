{
 "cells": [
  {
   "cell_type": "code",
   "execution_count": 7,
   "metadata": {},
   "outputs": [],
   "source": [
    "from hiive.mdptoolbox import mdp\n",
    "import mdptoolbox\n",
    "import gym\n",
    "import numpy as np\n",
    "import sys\n",
    "import os\n",
    "np.random.seed(44)"
   ]
  },
  {
   "cell_type": "code",
   "execution_count": 4,
   "metadata": {},
   "outputs": [],
   "source": [
    "from gym.envs.toy_text.frozen_lake import generate_random_map, FrozenLakeEnv"
   ]
  },
  {
   "cell_type": "code",
   "execution_count": 25,
   "metadata": {},
   "outputs": [],
   "source": [
    "env = FrozenLakeEnv(desc=generate_random_map(50))\n",
    "# generate_random_map(100)"
   ]
  },
  {
   "cell_type": "code",
   "execution_count": 30,
   "metadata": {},
   "outputs": [],
   "source": [
    "# env = gym.make('FrozenLake-v0', map_name=\"8x8\").env\n",
    "env = gym.make('FrozenLake-v0')\n",
    "# env = gym.make(\"Taxi-v3\")\n",
    "P = np.zeros((env.action_space.n, env.observation_space.n, env.observation_space.n))\n",
    "R = np.zeros((env.action_space.n, env.observation_space.n, env.observation_space.n))\n",
    "\n",
    "for state in env.P:\n",
    "    for action in env.P[state]:\n",
    "        for prob, new_state, reward, done in env.P[state][action]:\n",
    "            P[action][state][new_state] += prob\n",
    "            R[action][state][new_state] = reward"
   ]
  },
  {
   "cell_type": "code",
   "execution_count": 44,
   "metadata": {},
   "outputs": [],
   "source": [
    "env = gym.make('FrozenLake-v0', map_name=\"8x8\").env\n",
    "# env = gym.make(\"Taxi-v3\")\n",
    "P = np.zeros((env.action_space.n, env.observation_space.n, env.observation_space.n))\n",
    "R = np.zeros((env.action_space.n, env.observation_space.n, env.observation_space.n))\n",
    "\n",
    "for state in env.P:\n",
    "    for action in env.P[state]:\n",
    "        for prob, new_state, reward, done in env.P[state][action]:\n",
    "            P[action][state][new_state] += prob\n",
    "            R[action][state][new_state] = reward\n",
    "for state in env.P:\n",
    "    for action in env.P[state]:\n",
    "        for prob, new_state, reward, done in env.P[state][action]:\n",
    "            if done:\n",
    "                P[action][new_state][:] = 0\n",
    "                P[action][new_state][0] = 1\n",
    "                R[action][new_state][0] = -10\n",
    "#                 print(new_state, P[action][new_state])\n"
   ]
  },
  {
   "cell_type": "code",
   "execution_count": 45,
   "metadata": {},
   "outputs": [],
   "source": [
    "def train_and_test(env, P, R, discount=0.9, epsilon=1e-9, max_iter=1e9, \n",
    "                   n_iter=1e6):\n",
    "    \n",
    "    # run value iteration\n",
    "    vi = mdptoolbox.mdp.ValueIteration(P, R, discount=discount, \n",
    "                                       epsilon=epsilon, \n",
    "                                       max_iter=max_iter)\n",
    "    vi.run()\n",
    "    \n",
    "    # run policy iteration\n",
    "    pi = mdptoolbox.mdp.PolicyIteration(P, R, discount=discount)\n",
    "    pi.run()\n",
    "    \n",
    "    # run q-learning\n",
    "    q = mdptoolbox.mdp.QLearning(P, R, discount=0.9, n_iter=n_iter)\n",
    "    q.run()\n",
    "\n",
    "    vi_mrews, vi_meps, vi_rews, vi_eps = test_policy(env, vi.policy)    \n",
    "    pi_mrews, pi_meps, pi_rews, pi_eps = test_policy(env, pi.policy)    \n",
    "    q_mrews, q_meps, q_rews, q_eps = test_policy(env, q.policy)\n",
    "    \n",
    "    mean_rewards = (vi_mrews, pi_mrews, q_mrews)\n",
    "    mean_eps = (vi_meps, pi_meps, q_meps)\n",
    "    return mean_rewards, mean_eps"
   ]
  },
  {
   "cell_type": "code",
   "execution_count": null,
   "metadata": {},
   "outputs": [],
   "source": [
    "train_and_test(env, P, R)"
   ]
  },
  {
   "cell_type": "code",
   "execution_count": null,
   "metadata": {},
   "outputs": [],
   "source": []
  },
  {
   "cell_type": "code",
   "execution_count": 31,
   "metadata": {},
   "outputs": [
    {
     "data": {
      "text/plain": [
       "195"
      ]
     },
     "execution_count": 31,
     "metadata": {},
     "output_type": "execute_result"
    }
   ],
   "source": [
    "vi = mdptoolbox.mdp.ValueIteration(P, R, discount=0.9, epsilon=1e-12, max_iter=1e12)\n",
    "vi.run()\n",
    "vi_policy = vi.policy # result is (0, 0, 0)\n",
    "vi.iter"
   ]
  },
  {
   "cell_type": "code",
   "execution_count": 32,
   "metadata": {},
   "outputs": [
    {
     "data": {
      "text/plain": [
       "6"
      ]
     },
     "execution_count": 32,
     "metadata": {},
     "output_type": "execute_result"
    }
   ],
   "source": [
    "pi = mdptoolbox.mdp.PolicyIteration(P, R, discount=0.9)\n",
    "pi.run()\n",
    "pi_policy = pi.policy\n",
    "pi.iter"
   ]
  },
  {
   "cell_type": "code",
   "execution_count": 33,
   "metadata": {},
   "outputs": [],
   "source": [
    "q = mdptoolbox.mdp.QLearning(P, R, discount=0.9, n_iter=1e6)\n",
    "q.run()\n",
    "q_policy = q.policy"
   ]
  },
  {
   "cell_type": "code",
   "execution_count": 34,
   "metadata": {},
   "outputs": [],
   "source": [
    "pi_mean_reward, pi_mean_eps, pi_rewards, pi_episodes = test_policy(env, pi_policy)"
   ]
  },
  {
   "cell_type": "code",
   "execution_count": 35,
   "metadata": {},
   "outputs": [],
   "source": [
    "vi_mean_reward, vi_mean_eps, vi_rewards, vi_episodes = test_policy(env, vi_policy)"
   ]
  },
  {
   "cell_type": "code",
   "execution_count": 36,
   "metadata": {},
   "outputs": [],
   "source": [
    "q_mean_reward, q_mean_eps, q_rewards, q_episodes = test_policy(env, q_policy)"
   ]
  },
  {
   "cell_type": "code",
   "execution_count": 37,
   "metadata": {},
   "outputs": [
    {
     "data": {
      "text/plain": [
       "(0.057, 0.719, 0.707)"
      ]
     },
     "execution_count": 37,
     "metadata": {},
     "output_type": "execute_result"
    }
   ],
   "source": [
    "q_mean_reward, pi_mean_reward, vi_mean_reward"
   ]
  },
  {
   "cell_type": "code",
   "execution_count": 6,
   "metadata": {},
   "outputs": [],
   "source": [
    "def test_policy(env, policy, n_epoch=1000):\n",
    "    rewards = []\n",
    "    episode_counts = []\n",
    "    for i in range(n_epoch):\n",
    "        current_state = env.reset()\n",
    "        ep = 0\n",
    "        done = False\n",
    "        episode_reward = 0\n",
    "        while not done:\n",
    "            ep += 1\n",
    "            act = int(policy[current_state])\n",
    "            new_state, reward, done, _ = env.step(act)\n",
    "            episode_reward += reward\n",
    "            current_state = new_state\n",
    "        rewards.append(episode_reward)\n",
    "        episode_counts.append(ep)\n",
    "    \n",
    "    # all done\n",
    "    mean_reward = sum(rewards)/len(rewards)\n",
    "    mean_eps = sum(episode_counts)/len(episode_counts)\n",
    "    return mean_reward, mean_eps, rewards, episode_counts \n",
    "            \n",
    "            \n",
    "        \n",
    "        "
   ]
  },
  {
   "cell_type": "markdown",
   "metadata": {},
   "source": [
    "## Single Step Run"
   ]
  },
  {
   "cell_type": "code",
   "execution_count": 137,
   "metadata": {},
   "outputs": [],
   "source": [
    "current_state = env.reset()\n",
    "rewards = []"
   ]
  },
  {
   "cell_type": "code",
   "execution_count": null,
   "metadata": {},
   "outputs": [],
   "source": [
    "\n",
    "act = int(vi_policy[current_state])\n",
    "\n",
    "print(act)\n",
    "new_state, reward, finished, _ = env.step(act)\n",
    "rewards.append(reward)\n",
    "current_state = new_state\n",
    "print(finished, reward)\n",
    "env.render()"
   ]
  },
  {
   "cell_type": "code",
   "execution_count": null,
   "metadata": {},
   "outputs": [],
   "source": [
    "\n",
    "act = int(pi_policy[current_state])\n",
    "\n",
    "print(act)\n",
    "new_state, reward, finished, _ = env.step(act)\n",
    "rewards.append(reward)\n",
    "current_state = new_state\n",
    "print(finished, reward)\n",
    "env.render()"
   ]
  },
  {
   "cell_type": "code",
   "execution_count": 84,
   "metadata": {},
   "outputs": [
    {
     "name": "stdout",
     "output_type": "stream",
     "text": [
      "1\n",
      "False -1\n",
      "+---------+\n",
      "|\u001b[35mR\u001b[0m:\u001b[43m \u001b[0m| : :G|\n",
      "| : | : : |\n",
      "| : : : : |\n",
      "| | : | : |\n",
      "|\u001b[34;1mY\u001b[0m| : |B: |\n",
      "+---------+\n",
      "  (North)\n"
     ]
    }
   ],
   "source": [
    "\n",
    "act = int(q_policy[current_state])\n",
    "\n",
    "print(act)\n",
    "new_state, reward, finished, _ = env.step(act)\n",
    "rewards.append(reward)\n",
    "current_state = new_state\n",
    "print(finished, reward)\n",
    "env.render()"
   ]
  },
  {
   "cell_type": "markdown",
   "metadata": {},
   "source": [
    "## Multiple Step Run"
   ]
  },
  {
   "cell_type": "code",
   "execution_count": 352,
   "metadata": {},
   "outputs": [
    {
     "name": "stdout",
     "output_type": "stream",
     "text": [
      "Finished at step:  52\n",
      "  (Right)\n",
      "SFFFFFFF\n",
      "FFFFFFFF\n",
      "FFFHFFFF\n",
      "FFFFFHFF\n",
      "FFFHFFFF\n",
      "FHHFFFHF\n",
      "FHFFHFHF\n",
      "FFFHFFF\u001b[41mG\u001b[0m\n"
     ]
    }
   ],
   "source": [
    "done = False\n",
    "ep = 0\n",
    "current_state = env.reset()\n",
    "while not done:\n",
    "    ep += 1\n",
    "    act = int(vi_policy[current_state])\n",
    "    new_state, reward, done, _ = env.step(act)\n",
    "    current_state = new_state\n",
    "#     print(done, reward, new_state)\n",
    "print(\"Finished at step: \", ep)\n",
    "env.render()    "
   ]
  },
  {
   "cell_type": "code",
   "execution_count": 336,
   "metadata": {},
   "outputs": [
    {
     "name": "stdout",
     "output_type": "stream",
     "text": [
      "Finished at step:  89\n",
      "  (Right)\n",
      "SFFFFFFF\n",
      "FFFFFFFF\n",
      "FFFHFFFF\n",
      "FFFFFHFF\n",
      "FFFHFFFF\n",
      "FHHFFFHF\n",
      "FHFFHFHF\n",
      "FFFHFFF\u001b[41mG\u001b[0m\n"
     ]
    }
   ],
   "source": [
    "done = False\n",
    "ep = 0\n",
    "current_state = env.reset()\n",
    "while not done:\n",
    "    ep += 1\n",
    "    act = int(pi_policy[current_state])\n",
    "    new_state, reward, done, _ = env.step(act)\n",
    "    current_state = new_state\n",
    "#     print(done, reward, new_state)\n",
    "print(\"Finished at step: \", ep)\n",
    "env.render()    "
   ]
  },
  {
   "cell_type": "code",
   "execution_count": 278,
   "metadata": {},
   "outputs": [
    {
     "name": "stdout",
     "output_type": "stream",
     "text": [
      "Finished at step:  44\n",
      "  (Down)\n",
      "SFFFFFFF\n",
      "FFFFFFFF\n",
      "FFFHFFFF\n",
      "FFFFFHFF\n",
      "FFFHFFFF\n",
      "F\u001b[41mH\u001b[0mHFFFHF\n",
      "FHFFHFHF\n",
      "FFFHFFFG\n"
     ]
    }
   ],
   "source": [
    "done = False\n",
    "ep = 0\n",
    "current_state = env.reset()\n",
    "while not done:\n",
    "    ep += 1\n",
    "    act = int(q_policy[current_state])\n",
    "    new_state, reward, done, _ = env.step(act)\n",
    "    current_state = new_state\n",
    "#     print(done, reward, new_state)\n",
    "print(\"Finished at step: \", ep)\n",
    "env.render()    "
   ]
  },
  {
   "cell_type": "code",
   "execution_count": null,
   "metadata": {},
   "outputs": [],
   "source": []
  }
 ],
 "metadata": {
  "kernelspec": {
   "display_name": "Python 3",
   "language": "python",
   "name": "python3"
  },
  "language_info": {
   "codemirror_mode": {
    "name": "ipython",
    "version": 3
   },
   "file_extension": ".py",
   "mimetype": "text/x-python",
   "name": "python",
   "nbconvert_exporter": "python",
   "pygments_lexer": "ipython3",
   "version": "3.7.5"
  }
 },
 "nbformat": 4,
 "nbformat_minor": 4
}
