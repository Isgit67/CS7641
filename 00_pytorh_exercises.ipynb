{
  "nbformat": 4,
  "nbformat_minor": 0,
  "metadata": {
    "colab": {
      "provenance": [],
      "gpuType": "T4",
      "authorship_tag": "ABX9TyP4KDqoEFEGyQ+xUEljl+7U",
      "include_colab_link": true
    },
    "kernelspec": {
      "name": "python3",
      "display_name": "Python 3"
    },
    "language_info": {
      "name": "python"
    },
    "accelerator": "GPU"
  },
  "cells": [
    {
      "cell_type": "markdown",
      "metadata": {
        "id": "view-in-github",
        "colab_type": "text"
      },
      "source": [
        "<a href=\"https://colab.research.google.com/github/Isgit67/CS7641/blob/master/00_pytorh_exercises.ipynb\" target=\"_parent\"><img src=\"https://colab.research.google.com/assets/colab-badge.svg\" alt=\"Open In Colab\"/></a>"
      ]
    },
    {
      "cell_type": "code",
      "execution_count": 1,
      "metadata": {
        "colab": {
          "base_uri": "https://localhost:8080/",
          "height": 35
        },
        "id": "zw3P6tNuF72L",
        "outputId": "467dca73-fa8e-4b3e-cbd4-c18355e3171d"
      },
      "outputs": [
        {
          "output_type": "execute_result",
          "data": {
            "text/plain": [
              "'2.6.0+cu124'"
            ],
            "application/vnd.google.colaboratory.intrinsic+json": {
              "type": "string"
            }
          },
          "metadata": {},
          "execution_count": 1
        }
      ],
      "source": [
        "import torch\n",
        "torch.__version__"
      ]
    },
    {
      "cell_type": "markdown",
      "source": [
        "2. Create a random tensor with shape (7, 7)."
      ],
      "metadata": {
        "id": "MtO8nv4WNUUb"
      }
    },
    {
      "cell_type": "code",
      "source": [
        "# Import torch\n",
        "\n",
        "\n",
        "# Create random tensor\n",
        "random_tensor=torch.rand(size=(7,7))\n",
        "random_tensor, random_tensor.dtype, random_tensor.device,random_tensor.shape, random_tensor.ndim"
      ],
      "metadata": {
        "colab": {
          "base_uri": "https://localhost:8080/"
        },
        "collapsed": true,
        "id": "wtQu4eyqNClQ",
        "outputId": "b79e1c2a-20c5-4daa-820b-d3975102845b"
      },
      "execution_count": 4,
      "outputs": [
        {
          "output_type": "execute_result",
          "data": {
            "text/plain": [
              "(tensor([[0.7468, 0.1742, 0.3709, 0.5187, 0.2124, 0.2923, 0.3649],\n",
              "         [0.4523, 0.6888, 0.5499, 0.7101, 0.4173, 0.3338, 0.1912],\n",
              "         [0.2047, 0.9382, 0.1160, 0.1932, 0.8400, 0.7984, 0.2788],\n",
              "         [0.4768, 0.3369, 0.8858, 0.4618, 0.4124, 0.2127, 0.3857],\n",
              "         [0.3938, 0.9955, 0.1011, 0.4903, 0.9395, 0.8070, 0.7762],\n",
              "         [0.0087, 0.1093, 0.0253, 0.1029, 0.6729, 0.3439, 0.4130],\n",
              "         [0.2023, 0.8703, 0.3648, 0.5378, 0.3121, 0.8038, 0.2117]]),\n",
              " torch.float32,\n",
              " device(type='cpu'),\n",
              " torch.Size([7, 7]),\n",
              " 2)"
            ]
          },
          "metadata": {},
          "execution_count": 4
        }
      ]
    },
    {
      "cell_type": "markdown",
      "source": [
        "3. Perform a matrix multiplication on the tensor from 2 with another random tensor with shape (1, 7) (hint: you may have to transpose the second tensor)."
      ],
      "metadata": {
        "id": "Le0U-fUfPpgs"
      }
    },
    {
      "cell_type": "markdown",
      "source": [],
      "metadata": {
        "id": "onV1QKbZMpFG"
      }
    },
    {
      "cell_type": "code",
      "source": [
        "# Create another random tensor\n",
        "second_random_tensor=torch.rand(size=(1,7))\n",
        "output=torch.matmul(random_tensor, second_random_tensor.T)\n",
        "\n",
        "print(random_tensor)\n",
        "print(f\"\\nrandom_tensor: {random_tensor.shape}\")\n",
        "\n",
        "print(second_random_tensor)\n",
        "print(f\"\\nsecond_random_tensor: {second_random_tensor.shape}\")\n",
        "\n",
        "print(f\"\\nsecond_random_tensor.T: {second_random_tensor.T.shape}\")\n",
        "print(second_random_tensor.T)\n",
        "\n",
        "print(output)\n",
        "print(f\"\\nOutput shape: {output.shape}\")\n",
        "# Perform matrix multiplication"
      ],
      "metadata": {
        "colab": {
          "base_uri": "https://localhost:8080/"
        },
        "id": "ypw92XCiSBFH",
        "outputId": "5e75a853-51e2-45f3-bfc6-772f7dd16d50"
      },
      "execution_count": 5,
      "outputs": [
        {
          "output_type": "stream",
          "name": "stdout",
          "text": [
            "tensor([[0.7468, 0.1742, 0.3709, 0.5187, 0.2124, 0.2923, 0.3649],\n",
            "        [0.4523, 0.6888, 0.5499, 0.7101, 0.4173, 0.3338, 0.1912],\n",
            "        [0.2047, 0.9382, 0.1160, 0.1932, 0.8400, 0.7984, 0.2788],\n",
            "        [0.4768, 0.3369, 0.8858, 0.4618, 0.4124, 0.2127, 0.3857],\n",
            "        [0.3938, 0.9955, 0.1011, 0.4903, 0.9395, 0.8070, 0.7762],\n",
            "        [0.0087, 0.1093, 0.0253, 0.1029, 0.6729, 0.3439, 0.4130],\n",
            "        [0.2023, 0.8703, 0.3648, 0.5378, 0.3121, 0.8038, 0.2117]])\n",
            "\n",
            "random_tensor: torch.Size([7, 7])\n",
            "tensor([[0.2398, 0.1739, 0.3253, 0.4924, 0.0557, 0.1170, 0.8122]])\n",
            "\n",
            "second_random_tensor: torch.Size([1, 7])\n",
            "\n",
            "second_random_tensor.T: torch.Size([7, 1])\n",
            "tensor([[0.2398],\n",
            "        [0.1739],\n",
            "        [0.3253],\n",
            "        [0.4924],\n",
            "        [0.0557],\n",
            "        [0.1170],\n",
            "        [0.8122]])\n",
            "tensor([[0.9278],\n",
            "        [0.9743],\n",
            "        [0.7117],\n",
            "        [1.0496],\n",
            "        [1.3190],\n",
            "        [0.4931],\n",
            "        [0.8667]])\n",
            "\n",
            "Output shape: torch.Size([7, 1])\n"
          ]
        }
      ]
    },
    {
      "cell_type": "markdown",
      "source": [
        "4. Set the random seed to 0 and do 2 & 3 over again.\n",
        "The output should be:\n",
        "\n",
        "(tensor([[1.8542],\n",
        "         [1.9611],\n",
        "         [2.2884],\n",
        "         [3.0481],\n",
        "         [1.7067],\n",
        "         [2.5290],\n",
        "         [1.7989]]), torch.Size([7, 1]))\n"
      ],
      "metadata": {
        "id": "erAykSGXQFVr"
      }
    },
    {
      "cell_type": "code",
      "source": [
        "# Set manual seed\n",
        "torch.manual_seed(0)\n",
        "\n",
        "# Create two random tensors\n",
        "first_tensor=torch.rand(size=(7,7))\n",
        "second_tensor=torch.rand(size=(1,7))\n",
        "output=torch.matmul(first_tensor, second_tensor.T)\n",
        "output, output.shape\n",
        "# Matrix multiply tensors"
      ],
      "metadata": {
        "colab": {
          "base_uri": "https://localhost:8080/"
        },
        "id": "y365DARtQErP",
        "outputId": "dc4e4f7d-2306-40b8-c2f6-ccd219c98700"
      },
      "execution_count": 6,
      "outputs": [
        {
          "output_type": "execute_result",
          "data": {
            "text/plain": [
              "(tensor([[1.8542],\n",
              "         [1.9611],\n",
              "         [2.2884],\n",
              "         [3.0481],\n",
              "         [1.7067],\n",
              "         [2.5290],\n",
              "         [1.7989]]),\n",
              " torch.Size([7, 1]))"
            ]
          },
          "metadata": {},
          "execution_count": 6
        }
      ]
    },
    {
      "cell_type": "code",
      "source": [],
      "metadata": {
        "id": "EB81CxyCQLB-"
      },
      "execution_count": null,
      "outputs": []
    },
    {
      "cell_type": "markdown",
      "source": [
        "5. Speaking of random seeds, we saw how to set it with torch.manual_seed() but is there a GPU equivalent? (hint: you'll need to look into the documentation for torch.cuda for this one)\n",
        "\n",
        "If there is, set the GPU random seed to 1234."
      ],
      "metadata": {
        "id": "ZlxDRY3fQLZW"
      }
    },
    {
      "cell_type": "code",
      "source": [
        "\n",
        "# Set random seed on the GPU\n",
        "#torch.cuda.is_available()\n",
        "#torch.cuda.device_count()\n",
        "#if torch.cuda.is_available():\n",
        "  #device=\"cuda\"\n",
        "#elif torch.backends.mps.is_available():\n",
        "  #device=\"mps\"\n",
        "#else:\n",
        "  #device=\"cpu\"\n",
        "\n",
        "torch.cuda.manual_seed(1234)"
      ],
      "metadata": {
        "id": "vn-pvPIaQYTg"
      },
      "execution_count": 9,
      "outputs": []
    },
    {
      "cell_type": "markdown",
      "source": [
        "6. Create two random tensors of shape (2, 3) and send them both to the GPU (you'll need access to a GPU for this). Set torch.manual_seed(1234) when creating the tensors (this doesn't have to be the GPU random seed). The output should be something like:\n",
        "Device: cuda\n",
        "(tensor([[0.0290, 0.4019, 0.2598],\n",
        "         [0.3666, 0.0583, 0.7006]], device='cuda:0'),\n",
        " tensor([[0.0518, 0.4681, 0.6738],\n",
        "         [0.3315, 0.7837, 0.5631]], device='cuda:0'))"
      ],
      "metadata": {
        "id": "30qWT7L1QY4Z"
      }
    },
    {
      "cell_type": "code",
      "source": [
        "# Set random seed\n",
        "torch.manual_seed(1234)\n",
        "\n",
        "# Check for access to GPU\n",
        "print(torch.cuda.is_available())\n",
        "# Create two random tensors on GPU\n",
        "first_tensor=torch.rand(size=(2,3))\n",
        "print(first_tensor, first_tensor.device)\n",
        "second_tensor=torch.rand(size=(2,3))\n",
        "print(second_tensor, second_tensor.device)\n",
        "\n",
        "if torch.cuda.is_available():\n",
        "  device=\"cuda\"\n",
        "elif torch.backends.mps.is_available():\n",
        "  device=\"mps\"\n",
        "else:\n",
        "  device=\"cpu\"\n",
        "\n",
        "first_tensor_on_gpu = first_tensor.to(device)\n",
        "second_tensor_on_gpu = second_tensor.to(device)\n",
        "print(first_tensor_on_gpu)\n",
        "print(second_tensor_on_gpu)"
      ],
      "metadata": {
        "colab": {
          "base_uri": "https://localhost:8080/"
        },
        "collapsed": true,
        "id": "M2x-_R6tQeIg",
        "outputId": "3a1721a3-cb6c-472c-cfce-c39c64d72f1b"
      },
      "execution_count": 8,
      "outputs": [
        {
          "output_type": "stream",
          "name": "stdout",
          "text": [
            "True\n",
            "tensor([[0.0290, 0.4019, 0.2598],\n",
            "        [0.3666, 0.0583, 0.7006]]) cpu\n",
            "tensor([[0.0518, 0.4681, 0.6738],\n",
            "        [0.3315, 0.7837, 0.5631]]) cpu\n",
            "tensor([[0.0290, 0.4019, 0.2598],\n",
            "        [0.3666, 0.0583, 0.7006]], device='cuda:0')\n",
            "tensor([[0.0518, 0.4681, 0.6738],\n",
            "        [0.3315, 0.7837, 0.5631]], device='cuda:0')\n"
          ]
        }
      ]
    },
    {
      "cell_type": "markdown",
      "source": [
        "7. Perform a matrix multiplication on the tensors you created in 6 (again, you may have to adjust the shapes of one of the tensors).\n",
        "The output should look like:\n",
        "\n",
        "(tensor([[0.3647, 0.4709],\n",
        "         [0.5184, 0.5617]], device='cuda:0'), torch.Size([2, 2]))"
      ],
      "metadata": {
        "id": "YzbHR-J-N-q5"
      }
    },
    {
      "cell_type": "code",
      "source": [
        "# Perform matmul on tensor_A and tensor_B\n",
        "output=torch.matmul(first_tensor,second_tensor.T)\n",
        "output_on_gpu=output.to(device)\n",
        "\n",
        "output_on_gpu,output_on_gpu.shape"
      ],
      "metadata": {
        "colab": {
          "base_uri": "https://localhost:8080/"
        },
        "id": "VmbexMDvOHtb",
        "outputId": "cb7c21a1-e7a7-4816-ed73-36dc137ad51b"
      },
      "execution_count": 18,
      "outputs": [
        {
          "output_type": "execute_result",
          "data": {
            "text/plain": [
              "(tensor([[0.3647, 0.4709],\n",
              "         [0.5184, 0.5617]], device='cuda:0'),\n",
              " torch.Size([2, 2]))"
            ]
          },
          "metadata": {},
          "execution_count": 18
        }
      ]
    },
    {
      "cell_type": "markdown",
      "source": [
        "8. Find the maximum and minimum values of the output of 7."
      ],
      "metadata": {
        "id": "lW-DJuugOL_s"
      }
    },
    {
      "cell_type": "code",
      "source": [
        "# Find max\n",
        "print(f\"Minimum: {output_on_gpu.min()}\")\n",
        "print(f\"Maximum: {output_on_gpu.max()}\")\n",
        "# Find min"
      ],
      "metadata": {
        "colab": {
          "base_uri": "https://localhost:8080/"
        },
        "id": "KF9ekRTBOOY-",
        "outputId": "725b5558-99ff-44bb-fae1-a3fac74f9691"
      },
      "execution_count": 20,
      "outputs": [
        {
          "output_type": "stream",
          "name": "stdout",
          "text": [
            "Minimum: 0.3647301495075226\n",
            "Maximum: 0.5617256760597229\n"
          ]
        }
      ]
    },
    {
      "cell_type": "markdown",
      "source": [
        "10. Make a random tensor with shape (1, 1, 1, 10) and then create a new tensor with all the 1 dimensions removed to be left with a tensor of shape (10). Set the seed to 7 when you create it and print out the first tensor and it's shape as well as the second tensor and it's shape.\n",
        "The output should look like:\n",
        "\n",
        "tensor([[[[0.5349, 0.1988, 0.6592, 0.6569, 0.2328, 0.4251, 0.2071, 0.6297,\n",
        "           0.3653, 0.8513]]]]) torch.Size([1, 1, 1, 10])\n",
        "tensor([0.5349, 0.1988, 0.6592, 0.6569, 0.2328, 0.4251, 0.2071, 0.6297, 0.3653,\n",
        "        0.8513]) torch.Size([10])"
      ],
      "metadata": {
        "id": "bF0B0uEHOQ06"
      }
    },
    {
      "cell_type": "code",
      "source": [
        "# Set seed\n",
        "torch.manual_seed(7)\n",
        "\n",
        "\n",
        "\n",
        "# Create random tensor\n",
        "first_tensor=torch.rand(size=(1,1,1,10))\n",
        "\n",
        "# Remove single dimensions\n",
        "\n",
        "second_tensor=first_tensor.reshape(10)\n",
        "\n",
        "# Print out tensors and their shapes\n",
        "first_tensor, first_tensor.shape, second_tensor, second_tensor.shape"
      ],
      "metadata": {
        "colab": {
          "base_uri": "https://localhost:8080/"
        },
        "id": "2Mj8sqgiOVBc",
        "outputId": "547162cd-5c35-463c-a787-92d68c575f64"
      },
      "execution_count": 23,
      "outputs": [
        {
          "output_type": "execute_result",
          "data": {
            "text/plain": [
              "(tensor([[[[0.5349, 0.1988, 0.6592, 0.6569, 0.2328, 0.4251, 0.2071, 0.6297,\n",
              "            0.3653, 0.8513]]]]),\n",
              " torch.Size([1, 1, 1, 10]),\n",
              " tensor([0.5349, 0.1988, 0.6592, 0.6569, 0.2328, 0.4251, 0.2071, 0.6297, 0.3653,\n",
              "         0.8513]),\n",
              " torch.Size([10]))"
            ]
          },
          "metadata": {},
          "execution_count": 23
        }
      ]
    }
  ]
}